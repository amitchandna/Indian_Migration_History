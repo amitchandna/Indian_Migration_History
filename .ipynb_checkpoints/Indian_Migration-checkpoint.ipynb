{
 "cells": [
  {
   "cell_type": "markdown",
   "metadata": {},
   "source": [
    "### Random Project about Indian Migration History\n"
   ]
  },
  {
   "cell_type": "markdown",
   "metadata": {},
   "source": [
    "## Some Psuedo Code for how this project is going to work.\n",
    "I want to know the following: Since the 1960s many Indian people have immigrated to various locations across the globe. Having grown up in this diaspora I was completley unaware of the depth to which it existed before leaving North America and going to work in Tanzania where I found a sizeable Indian population. This was seen as a normal phenomena to those who were already educated in this diaspora. The counter point to this was when I reached Denmark and started living there - Indian people were incredibly scarce! Why is it that some Indian people ended up in some parts of the world in incredible excess (USA, Canada, United Kingdom, East Africa, etc.) but then were incredibly scarce in others (Scandinavia). The twist was that within Scandinavia there was a sizeable Pakistani population meaning that it was not a cultural difference as both pakistani and indian cultures are incredibly similar as we all come from the same corner of the world. With this in mind, I would like this project to do a handful of things.\n",
    "\n",
    "\n",
    "1.) Demonstrate the number of Indians that have immigrated to various countries over 40 years with the assumption that these individuals have landed in a new country and stayed put.\n",
    "\n",
    "\n",
    "2.) Given the current trend that has been seen with Indian migration, what would be the expected Indian population in each country in the next 20 years as more indians migrate out of India. (Model Creation)"
   ]
  },
  {
   "cell_type": "code",
   "execution_count": 27,
   "metadata": {},
   "outputs": [],
   "source": [
    "import pandas as pd\n",
    "import pandas_profiling as pp\n",
    "import numpy as np\n",
    "import seaborn as sns"
   ]
  },
  {
   "cell_type": "code",
   "execution_count": 28,
   "metadata": {},
   "outputs": [],
   "source": [
    "df = pd.read_csv('IndianMigrationHistory1.3.csv')"
   ]
  },
  {
   "cell_type": "code",
   "execution_count": 29,
   "metadata": {},
   "outputs": [],
   "source": [
    "df = df.rename(columns={'Country Origin Name':'India', 'Country Origin Code':'IND', 'Migration by Gender Name':'Gender',\n",
    "                  'Migration by Gender Code':'MAL_FEM', 'Country Dest Name':'Country','Country Dest Code':'Country_Abbreviation',\n",
    "                  '1960 [1960]': 'Sixties','1970 [1970]':'Seventies','1980 [1980]':'Eighties','1990 [1990]':'Nineties',\n",
    "                  '2000 [2000]':'Two_Thousands'})"
   ]
  },
  {
   "cell_type": "code",
   "execution_count": 30,
   "metadata": {},
   "outputs": [],
   "source": [
    "df = df.drop([39,96,107,137,179,270,327,338,368,410])"
   ]
  },
  {
   "cell_type": "code",
   "execution_count": 31,
   "metadata": {},
   "outputs": [],
   "source": [
    "df = df.reset_index()"
   ]
  },
  {
   "cell_type": "code",
   "execution_count": 32,
   "metadata": {},
   "outputs": [],
   "source": [
    "df['Sixties'] = pd.to_numeric(df['Sixties'])\n",
    "df['Seventies'] = pd.to_numeric(df['Seventies'])\n",
    "df['Eighties'] = pd.to_numeric(df['Eighties'])\n",
    "df['Nineties'] = pd.to_numeric(df['Nineties'])\n",
    "df['Two_Thousands'] = pd.to_numeric(df['Two_Thousands'])"
   ]
  },
  {
   "cell_type": "code",
   "execution_count": 33,
   "metadata": {},
   "outputs": [],
   "source": [
    "df['Total_Indian_Population'] = df['Sixties'] + df['Seventies'] + df['Eighties'] + df['Nineties'] + df['Two_Thousands']"
   ]
  },
  {
   "cell_type": "code",
   "execution_count": 34,
   "metadata": {},
   "outputs": [
    {
     "data": {
      "text/html": [
       "<div>\n",
       "<style scoped>\n",
       "    .dataframe tbody tr th:only-of-type {\n",
       "        vertical-align: middle;\n",
       "    }\n",
       "\n",
       "    .dataframe tbody tr th {\n",
       "        vertical-align: top;\n",
       "    }\n",
       "\n",
       "    .dataframe thead th {\n",
       "        text-align: right;\n",
       "    }\n",
       "</style>\n",
       "<table border=\"1\" class=\"dataframe\">\n",
       "  <thead>\n",
       "    <tr style=\"text-align: right;\">\n",
       "      <th></th>\n",
       "      <th>index</th>\n",
       "      <th>India</th>\n",
       "      <th>IND</th>\n",
       "      <th>Gender</th>\n",
       "      <th>MAL_FEM</th>\n",
       "      <th>Country</th>\n",
       "      <th>Country_Abbreviation</th>\n",
       "      <th>Sixties</th>\n",
       "      <th>Seventies</th>\n",
       "      <th>Eighties</th>\n",
       "      <th>Nineties</th>\n",
       "      <th>Two_Thousands</th>\n",
       "      <th>Total_Indian_Population</th>\n",
       "    </tr>\n",
       "  </thead>\n",
       "  <tbody>\n",
       "    <tr>\n",
       "      <th>0</th>\n",
       "      <td>0</td>\n",
       "      <td>India</td>\n",
       "      <td>IND</td>\n",
       "      <td>Female</td>\n",
       "      <td>FEM</td>\n",
       "      <td>Afghanistan</td>\n",
       "      <td>AFG</td>\n",
       "      <td>9521</td>\n",
       "      <td>11578</td>\n",
       "      <td>2872</td>\n",
       "      <td>2234</td>\n",
       "      <td>4445</td>\n",
       "      <td>30650</td>\n",
       "    </tr>\n",
       "    <tr>\n",
       "      <th>1</th>\n",
       "      <td>1</td>\n",
       "      <td>India</td>\n",
       "      <td>IND</td>\n",
       "      <td>Female</td>\n",
       "      <td>FEM</td>\n",
       "      <td>Albania</td>\n",
       "      <td>ALB</td>\n",
       "      <td>1</td>\n",
       "      <td>2</td>\n",
       "      <td>2</td>\n",
       "      <td>2</td>\n",
       "      <td>2</td>\n",
       "      <td>9</td>\n",
       "    </tr>\n",
       "    <tr>\n",
       "      <th>2</th>\n",
       "      <td>2</td>\n",
       "      <td>India</td>\n",
       "      <td>IND</td>\n",
       "      <td>Female</td>\n",
       "      <td>FEM</td>\n",
       "      <td>Algeria</td>\n",
       "      <td>DZA</td>\n",
       "      <td>6</td>\n",
       "      <td>2</td>\n",
       "      <td>2</td>\n",
       "      <td>1</td>\n",
       "      <td>0</td>\n",
       "      <td>11</td>\n",
       "    </tr>\n",
       "    <tr>\n",
       "      <th>3</th>\n",
       "      <td>3</td>\n",
       "      <td>India</td>\n",
       "      <td>IND</td>\n",
       "      <td>Female</td>\n",
       "      <td>FEM</td>\n",
       "      <td>American Samoa</td>\n",
       "      <td>ASM</td>\n",
       "      <td>0</td>\n",
       "      <td>0</td>\n",
       "      <td>2</td>\n",
       "      <td>3</td>\n",
       "      <td>4</td>\n",
       "      <td>9</td>\n",
       "    </tr>\n",
       "    <tr>\n",
       "      <th>4</th>\n",
       "      <td>4</td>\n",
       "      <td>India</td>\n",
       "      <td>IND</td>\n",
       "      <td>Female</td>\n",
       "      <td>FEM</td>\n",
       "      <td>Andorra</td>\n",
       "      <td>AND</td>\n",
       "      <td>2</td>\n",
       "      <td>13</td>\n",
       "      <td>3</td>\n",
       "      <td>6</td>\n",
       "      <td>8</td>\n",
       "      <td>32</td>\n",
       "    </tr>\n",
       "  </tbody>\n",
       "</table>\n",
       "</div>"
      ],
      "text/plain": [
       "   index  India  IND  Gender MAL_FEM         Country Country_Abbreviation  \\\n",
       "0      0  India  IND  Female     FEM     Afghanistan                  AFG   \n",
       "1      1  India  IND  Female     FEM         Albania                  ALB   \n",
       "2      2  India  IND  Female     FEM         Algeria                  DZA   \n",
       "3      3  India  IND  Female     FEM  American Samoa                  ASM   \n",
       "4      4  India  IND  Female     FEM         Andorra                  AND   \n",
       "\n",
       "   Sixties  Seventies  Eighties  Nineties  Two_Thousands  \\\n",
       "0     9521      11578      2872      2234           4445   \n",
       "1        1          2         2         2              2   \n",
       "2        6          2         2         1              0   \n",
       "3        0          0         2         3              4   \n",
       "4        2         13         3         6              8   \n",
       "\n",
       "   Total_Indian_Population  \n",
       "0                    30650  \n",
       "1                        9  \n",
       "2                       11  \n",
       "3                        9  \n",
       "4                       32  "
      ]
     },
     "execution_count": 34,
     "metadata": {},
     "output_type": "execute_result"
    }
   ],
   "source": [
    "df.head(5)"
   ]
  },
  {
   "cell_type": "code",
   "execution_count": 35,
   "metadata": {},
   "outputs": [],
   "source": [
    "#df = df[df['Total_Indian_Population']>0]"
   ]
  },
  {
   "cell_type": "code",
   "execution_count": null,
   "metadata": {},
   "outputs": [],
   "source": []
  },
  {
   "cell_type": "code",
   "execution_count": 36,
   "metadata": {},
   "outputs": [],
   "source": [
    "df_fem = df.iloc[:225:]\n",
    "df_mal = df.iloc[226::]"
   ]
  },
  {
   "cell_type": "code",
   "execution_count": 43,
   "metadata": {},
   "outputs": [
    {
     "data": {
      "text/plain": [
       "((209, 12), (210, 12))"
      ]
     },
     "execution_count": 43,
     "metadata": {},
     "output_type": "execute_result"
    }
   ],
   "source": [
    "df_fem.shape,df_mal.shape"
   ]
  },
  {
   "cell_type": "code",
   "execution_count": 38,
   "metadata": {},
   "outputs": [],
   "source": [
    "df_fem = df_fem.set_index('Country')\n",
    "df_mal = df_mal.set_index('Country')"
   ]
  },
  {
   "cell_type": "code",
   "execution_count": 42,
   "metadata": {},
   "outputs": [],
   "source": [
    "df_fem = df_fem[df_fem['Total_Indian_Population'] > 0]\n",
    "df_mal = df_mal[df_mal['Total_Indian_Population'] > 0]"
   ]
  },
  {
   "cell_type": "code",
   "execution_count": 48,
   "metadata": {},
   "outputs": [],
   "source": [
    "df_fem = df_fem.drop(columns=['MAL_FEM','Gender'])\n",
    "df_mal = df_mal.drop(columns=['MAL_FEM','Gender'])"
   ]
  },
  {
   "cell_type": "code",
   "execution_count": 45,
   "metadata": {},
   "outputs": [
    {
     "data": {
      "text/plain": [
       "Country\n",
       "Pakistan             9580036\n",
       "Sri Lanka            1722896\n",
       "Nepal                1268735\n",
       "Bangladesh           1096801\n",
       "United Kingdom        928195\n",
       "                      ...   \n",
       "Wallis and Futuna          2\n",
       "Tuvalu                     2\n",
       "Faeroe Islands             2\n",
       "Slovenia                   2\n",
       "Norfolk Island             1\n",
       "Name: Total_Indian_Population, Length: 209, dtype: int64"
      ]
     },
     "execution_count": 45,
     "metadata": {},
     "output_type": "execute_result"
    }
   ],
   "source": [
    "df_fem.Total_Indian_Population.sort_values(ascending=False)"
   ]
  },
  {
   "cell_type": "markdown",
   "metadata": {},
   "source": [
    "## Step to do here - Visualise this data\n",
    "The data has already been cleaned, and the data is broken down into male and female values - could always join on country name if it makes sense for the future but for now it is fine. Figuring out how to appropriatley express this data is important and really the only thing left to achieve object 1. "
   ]
  },
  {
   "cell_type": "code",
   "execution_count": null,
   "metadata": {},
   "outputs": [],
   "source": []
  }
 ],
 "metadata": {
  "kernelspec": {
   "display_name": "Python 3",
   "language": "python",
   "name": "python3"
  },
  "language_info": {
   "codemirror_mode": {
    "name": "ipython",
    "version": 3
   },
   "file_extension": ".py",
   "mimetype": "text/x-python",
   "name": "python",
   "nbconvert_exporter": "python",
   "pygments_lexer": "ipython3",
   "version": "3.7.6"
  }
 },
 "nbformat": 4,
 "nbformat_minor": 4
}
