{
 "cells": [
  {
   "cell_type": "markdown",
   "metadata": {},
   "source": [
    "### Random Project about Indian Migration History\n"
   ]
  },
  {
   "cell_type": "markdown",
   "metadata": {},
   "source": [
    "## Some Psuedo Code for how this project is going to work.\n",
    "I want to know the following: Since the 1960s many Indian people have immigrated to various locations across the globe. Having grown up in this diaspora I was completley unaware of the depth to which it existed before leaving North America and going to work in Tanzania where I found a sizeable Indian population. This was seen as a normal phenomena to those who were already educated in this diaspora. The counter point to this was when I reached Denmark and started living there - Indian people were incredibly scarce! Why is it that some Indian people ended up in some parts of the world in incredible excess (USA, Canada, United Kingdom, East Africa, etc.) but then were incredibly scarce in others (Scandinavia). The twist was that within Scandinavia there was a sizeable Pakistani population meaning that it was not a cultural difference as both pakistani and indian cultures are incredibly similar as we all come from the same corner of the world. With this in mind, I would like this project to do a handful of things.\n",
    "\n",
    "\n",
    "1.) Demonstrate the number of Indians that have immigrated to various countries over 40 years with the assumption that these individuals have landed in a new country and stayed put.\n",
    "\n",
    "\n",
    "2.) Given the current trend that has been seen with Indian migration, what would be the expected Indian population in each country in the next 20 years as more indians migrate out of India. (Model Creation)"
   ]
  },
  {
   "cell_type": "code",
   "execution_count": 1,
   "metadata": {},
   "outputs": [],
   "source": [
    "import pandas as pd\n",
    "import pandas_profiling as pp\n",
    "import numpy as np\n",
    "import seaborn as sns\n",
    "import matplotlib.pyplot as plt"
   ]
  },
  {
   "cell_type": "code",
   "execution_count": 2,
   "metadata": {},
   "outputs": [],
   "source": [
    "df = pd.read_csv('IndianMigrationHistory1.3.csv')"
   ]
  },
  {
   "cell_type": "code",
   "execution_count": 3,
   "metadata": {},
   "outputs": [],
   "source": [
    "df = df.rename(columns={'Country Origin Name':'India', 'Country Origin Code':'IND', 'Migration by Gender Name':'Gender',\n",
    "                  'Migration by Gender Code':'MAL_FEM', 'Country Dest Name':'Country','Country Dest Code':'Country_Abbreviation',\n",
    "                  '1960 [1960]': 'Sixties','1970 [1970]':'Seventies','1980 [1980]':'Eighties','1990 [1990]':'Nineties',\n",
    "                  '2000 [2000]':'Two_Thousands'})"
   ]
  },
  {
   "cell_type": "code",
   "execution_count": 4,
   "metadata": {},
   "outputs": [],
   "source": [
    "df = df.drop([39,96,107,137,179,270,327,338,368,410])"
   ]
  },
  {
   "cell_type": "code",
   "execution_count": 5,
   "metadata": {},
   "outputs": [],
   "source": [
    "df = df.reset_index()"
   ]
  },
  {
   "cell_type": "code",
   "execution_count": 6,
   "metadata": {},
   "outputs": [],
   "source": [
    "df['Sixties'] = pd.to_numeric(df['Sixties'])\n",
    "df['Seventies'] = pd.to_numeric(df['Seventies'])\n",
    "df['Eighties'] = pd.to_numeric(df['Eighties'])\n",
    "df['Nineties'] = pd.to_numeric(df['Nineties'])\n",
    "df['Two_Thousands'] = pd.to_numeric(df['Two_Thousands'])"
   ]
  },
  {
   "cell_type": "code",
   "execution_count": 7,
   "metadata": {},
   "outputs": [],
   "source": [
    "df['Total_Indian_Population'] = df['Sixties'] + df['Seventies'] + df['Eighties'] + df['Nineties'] + df['Two_Thousands']"
   ]
  },
  {
   "cell_type": "code",
   "execution_count": 8,
   "metadata": {},
   "outputs": [
    {
     "data": {
      "text/html": [
       "<div>\n",
       "<style scoped>\n",
       "    .dataframe tbody tr th:only-of-type {\n",
       "        vertical-align: middle;\n",
       "    }\n",
       "\n",
       "    .dataframe tbody tr th {\n",
       "        vertical-align: top;\n",
       "    }\n",
       "\n",
       "    .dataframe thead th {\n",
       "        text-align: right;\n",
       "    }\n",
       "</style>\n",
       "<table border=\"1\" class=\"dataframe\">\n",
       "  <thead>\n",
       "    <tr style=\"text-align: right;\">\n",
       "      <th></th>\n",
       "      <th>index</th>\n",
       "      <th>India</th>\n",
       "      <th>IND</th>\n",
       "      <th>Gender</th>\n",
       "      <th>MAL_FEM</th>\n",
       "      <th>Country</th>\n",
       "      <th>Country_Abbreviation</th>\n",
       "      <th>Sixties</th>\n",
       "      <th>Seventies</th>\n",
       "      <th>Eighties</th>\n",
       "      <th>Nineties</th>\n",
       "      <th>Two_Thousands</th>\n",
       "      <th>Total_Indian_Population</th>\n",
       "    </tr>\n",
       "  </thead>\n",
       "  <tbody>\n",
       "    <tr>\n",
       "      <th>0</th>\n",
       "      <td>0</td>\n",
       "      <td>India</td>\n",
       "      <td>IND</td>\n",
       "      <td>Female</td>\n",
       "      <td>FEM</td>\n",
       "      <td>Afghanistan</td>\n",
       "      <td>AFG</td>\n",
       "      <td>9521</td>\n",
       "      <td>11578</td>\n",
       "      <td>2872</td>\n",
       "      <td>2234</td>\n",
       "      <td>4445</td>\n",
       "      <td>30650</td>\n",
       "    </tr>\n",
       "    <tr>\n",
       "      <th>1</th>\n",
       "      <td>1</td>\n",
       "      <td>India</td>\n",
       "      <td>IND</td>\n",
       "      <td>Female</td>\n",
       "      <td>FEM</td>\n",
       "      <td>Albania</td>\n",
       "      <td>ALB</td>\n",
       "      <td>1</td>\n",
       "      <td>2</td>\n",
       "      <td>2</td>\n",
       "      <td>2</td>\n",
       "      <td>2</td>\n",
       "      <td>9</td>\n",
       "    </tr>\n",
       "    <tr>\n",
       "      <th>2</th>\n",
       "      <td>2</td>\n",
       "      <td>India</td>\n",
       "      <td>IND</td>\n",
       "      <td>Female</td>\n",
       "      <td>FEM</td>\n",
       "      <td>Algeria</td>\n",
       "      <td>DZA</td>\n",
       "      <td>6</td>\n",
       "      <td>2</td>\n",
       "      <td>2</td>\n",
       "      <td>1</td>\n",
       "      <td>0</td>\n",
       "      <td>11</td>\n",
       "    </tr>\n",
       "    <tr>\n",
       "      <th>3</th>\n",
       "      <td>3</td>\n",
       "      <td>India</td>\n",
       "      <td>IND</td>\n",
       "      <td>Female</td>\n",
       "      <td>FEM</td>\n",
       "      <td>American Samoa</td>\n",
       "      <td>ASM</td>\n",
       "      <td>0</td>\n",
       "      <td>0</td>\n",
       "      <td>2</td>\n",
       "      <td>3</td>\n",
       "      <td>4</td>\n",
       "      <td>9</td>\n",
       "    </tr>\n",
       "    <tr>\n",
       "      <th>4</th>\n",
       "      <td>4</td>\n",
       "      <td>India</td>\n",
       "      <td>IND</td>\n",
       "      <td>Female</td>\n",
       "      <td>FEM</td>\n",
       "      <td>Andorra</td>\n",
       "      <td>AND</td>\n",
       "      <td>2</td>\n",
       "      <td>13</td>\n",
       "      <td>3</td>\n",
       "      <td>6</td>\n",
       "      <td>8</td>\n",
       "      <td>32</td>\n",
       "    </tr>\n",
       "  </tbody>\n",
       "</table>\n",
       "</div>"
      ],
      "text/plain": [
       "   index  India  IND  Gender MAL_FEM         Country Country_Abbreviation  \\\n",
       "0      0  India  IND  Female     FEM     Afghanistan                  AFG   \n",
       "1      1  India  IND  Female     FEM         Albania                  ALB   \n",
       "2      2  India  IND  Female     FEM         Algeria                  DZA   \n",
       "3      3  India  IND  Female     FEM  American Samoa                  ASM   \n",
       "4      4  India  IND  Female     FEM         Andorra                  AND   \n",
       "\n",
       "   Sixties  Seventies  Eighties  Nineties  Two_Thousands  \\\n",
       "0     9521      11578      2872      2234           4445   \n",
       "1        1          2         2         2              2   \n",
       "2        6          2         2         1              0   \n",
       "3        0          0         2         3              4   \n",
       "4        2         13         3         6              8   \n",
       "\n",
       "   Total_Indian_Population  \n",
       "0                    30650  \n",
       "1                        9  \n",
       "2                       11  \n",
       "3                        9  \n",
       "4                       32  "
      ]
     },
     "execution_count": 8,
     "metadata": {},
     "output_type": "execute_result"
    }
   ],
   "source": [
    "df.head(5)"
   ]
  },
  {
   "cell_type": "code",
   "execution_count": 9,
   "metadata": {},
   "outputs": [],
   "source": [
    "#df = df[df['Total_Indian_Population']>0]"
   ]
  },
  {
   "cell_type": "code",
   "execution_count": null,
   "metadata": {},
   "outputs": [],
   "source": []
  },
  {
   "cell_type": "code",
   "execution_count": 10,
   "metadata": {},
   "outputs": [],
   "source": [
    "df_fem = df.iloc[:225:]\n",
    "df_mal = df.iloc[226::]"
   ]
  },
  {
   "cell_type": "code",
   "execution_count": 11,
   "metadata": {},
   "outputs": [
    {
     "data": {
      "text/plain": [
       "((225, 13), (226, 13))"
      ]
     },
     "execution_count": 11,
     "metadata": {},
     "output_type": "execute_result"
    }
   ],
   "source": [
    "df_fem.shape,df_mal.shape"
   ]
  },
  {
   "cell_type": "code",
   "execution_count": 12,
   "metadata": {},
   "outputs": [],
   "source": [
    "df_fem = df_fem.set_index('index')\n",
    "df_mal = df_mal.set_index('index')"
   ]
  },
  {
   "cell_type": "code",
   "execution_count": 13,
   "metadata": {},
   "outputs": [],
   "source": [
    "df_fem = df_fem[df_fem['Total_Indian_Population'] > 10000]\n",
    "df_mal = df_mal[df_mal['Total_Indian_Population'] > 10000]"
   ]
  },
  {
   "cell_type": "code",
   "execution_count": 14,
   "metadata": {},
   "outputs": [],
   "source": [
    "df_fem = df_fem.drop(columns=['MAL_FEM','Gender','India','IND','Country'])\n",
    "df_mal = df_mal.drop(columns=['MAL_FEM','Gender','India','IND','Country'])"
   ]
  },
  {
   "cell_type": "code",
   "execution_count": 15,
   "metadata": {},
   "outputs": [
    {
     "data": {
      "text/plain": [
       "index\n",
       "157    9580036\n",
       "190    1722896\n",
       "144    1268735\n",
       "16     1096801\n",
       "217     928195\n",
       "218     845471\n",
       "216     455473\n",
       "177     447812\n",
       "34      277925\n",
       "141     159834\n",
       "123     135204\n",
       "68      129547\n",
       "11      106874\n",
       "156      99941\n",
       "183      94774\n",
       "44       85006\n",
       "92       76540\n",
       "108      73418\n",
       "88       50331\n",
       "188      43277\n",
       "97       42717\n",
       "0        30650\n",
       "214      27329\n",
       "74       27126\n",
       "98       26488\n",
       "202      23644\n",
       "121      22438\n",
       "15       22089\n",
       "148      21294\n",
       "23       17345\n",
       "112      16730\n",
       "103      16570\n",
       "229      15747\n",
       "199      14988\n",
       "228      14427\n",
       "167      14000\n",
       "197      13817\n",
       "66       13450\n",
       "163      12987\n",
       "203      11260\n",
       "Name: Total_Indian_Population, dtype: int64"
      ]
     },
     "execution_count": 15,
     "metadata": {},
     "output_type": "execute_result"
    }
   ],
   "source": [
    "df_fem.Total_Indian_Population.sort_values(ascending=False)"
   ]
  },
  {
   "cell_type": "markdown",
   "metadata": {},
   "source": [
    "## Step to do here - Visualise this data\n",
    "The data has already been cleaned, and the data is broken down into male and female values - could always join on country name if it makes sense for the future but for now it is fine. Figuring out how to appropriatley express this data is important and really the only thing left to achieve object 1. "
   ]
  },
  {
   "cell_type": "code",
   "execution_count": 16,
   "metadata": {},
   "outputs": [
    {
     "data": {
      "text/plain": [
       "(array([ 0,  1,  2,  3,  4,  5,  6,  7,  8,  9, 10, 11, 12, 13, 14, 15, 16,\n",
       "        17, 18, 19, 20, 21, 22, 23, 24, 25, 26, 27, 28, 29, 30, 31, 32, 33,\n",
       "        34, 35, 36, 37, 38, 39]),\n",
       " <a list of 40 Text major ticklabel objects>)"
      ]
     },
     "execution_count": 16,
     "metadata": {},
     "output_type": "execute_result"
    },
    {
     "data": {
      "image/png": "[encoded data removed]",
      "text/plain": [
       "<Figure size 864x864 with 1 Axes>"
      ]
     },
     "metadata": {},
     "output_type": "display_data"
    }
   ],
   "source": [
    "fig_dims = (12, 12)\n",
    "fig, ax = plt.subplots(figsize=fig_dims)\n",
    "six = sns.barplot(y=df_fem.Sixties,x=df_fem.Country_Abbreviation)\n",
    "plt.xticks(rotation=90)"
   ]
  },
  {
   "cell_type": "code",
   "execution_count": 17,
   "metadata": {},
   "outputs": [
    {
     "data": {
      "text/plain": [
       "(array([ 0,  1,  2,  3,  4,  5,  6,  7,  8,  9, 10, 11, 12, 13, 14, 15, 16,\n",
       "        17, 18, 19, 20, 21, 22, 23, 24, 25, 26, 27, 28, 29, 30, 31, 32, 33,\n",
       "        34, 35, 36, 37, 38, 39]),\n",
       " <a list of 40 Text major ticklabel objects>)"
      ]
     },
     "execution_count": 17,
     "metadata": {},
     "output_type": "execute_result"
    },
    {
     "data": {
      "image/png": "[encoded data removed]",
      "text/plain": [
       "<Figure size 864x864 with 1 Axes>"
      ]
     },
     "metadata": {},
     "output_type": "display_data"
    }
   ],
   "source": [
    "fig_dims = (12, 12)\n",
    "fig, ax = plt.subplots(figsize=fig_dims)\n",
    "sev = sns.barplot(x=df_fem.Country_Abbreviation,y=df_fem.Seventies)\n",
    "plt.xticks(rotation=90)"
   ]
  },
  {
   "cell_type": "code",
   "execution_count": 18,
   "metadata": {},
   "outputs": [
    {
     "data": {
      "text/plain": [
       "(array([ 0,  1,  2,  3,  4,  5,  6,  7,  8,  9, 10, 11, 12, 13, 14, 15, 16,\n",
       "        17, 18, 19, 20, 21, 22, 23, 24, 25, 26, 27, 28, 29, 30, 31, 32, 33,\n",
       "        34, 35, 36, 37, 38, 39]),\n",
       " <a list of 40 Text major ticklabel objects>)"
      ]
     },
     "execution_count": 18,
     "metadata": {},
     "output_type": "execute_result"
    },
    {
     "data": {
      "image/png": "[encoded data removed]",
      "text/plain": [
       "<Figure size 864x864 with 1 Axes>"
      ]
     },
     "metadata": {},
     "output_type": "display_data"
    }
   ],
   "source": [
    "fig_dims = (12, 12)\n",
    "fig, ax = plt.subplots(figsize=fig_dims)\n",
    "eig = sns.barplot(x=df_fem.Country_Abbreviation,y=df_fem.Eighties)\n",
    "plt.xticks(rotation=90)"
   ]
  },
  {
   "cell_type": "code",
   "execution_count": 19,
   "metadata": {},
   "outputs": [
    {
     "data": {
      "text/plain": [
       "(array([ 0,  1,  2,  3,  4,  5,  6,  7,  8,  9, 10, 11, 12, 13, 14, 15, 16,\n",
       "        17, 18, 19, 20, 21, 22, 23, 24, 25, 26, 27, 28, 29, 30, 31, 32, 33,\n",
       "        34, 35, 36, 37, 38, 39]),\n",
       " <a list of 40 Text major ticklabel objects>)"
      ]
     },
     "execution_count": 19,
     "metadata": {},
     "output_type": "execute_result"
    },
    {
     "data": {
      "image/png": "[encoded data removed]",
      "text/plain": [
       "<Figure size 864x864 with 1 Axes>"
      ]
     },
     "metadata": {},
     "output_type": "display_data"
    }
   ],
   "source": [
    "fig_dims = (12, 12)\n",
    "fig, ax = plt.subplots(figsize=fig_dims)\n",
    "nin = sns.barplot(x=df_fem.Country_Abbreviation,y=df_fem.Nineties)\n",
    "plt.xticks(rotation=90)"
   ]
  },
  {
   "cell_type": "code",
   "execution_count": 20,
   "metadata": {},
   "outputs": [
    {
     "data": {
      "text/plain": [
       "(array([ 0,  1,  2,  3,  4,  5,  6,  7,  8,  9, 10, 11, 12, 13, 14, 15, 16,\n",
       "        17, 18, 19, 20, 21, 22, 23, 24, 25, 26, 27, 28, 29, 30, 31, 32, 33,\n",
       "        34, 35, 36, 37, 38, 39]),\n",
       " <a list of 40 Text major ticklabel objects>)"
      ]
     },
     "execution_count": 20,
     "metadata": {},
     "output_type": "execute_result"
    },
    {
     "data": {
      "image/png": "[encoded data removed]",
      "text/plain": [
       "<Figure size 864x864 with 1 Axes>"
      ]
     },
     "metadata": {},
     "output_type": "display_data"
    }
   ],
   "source": [
    "fig_dims = (12, 12)\n",
    "fig, ax = plt.subplots(figsize=fig_dims)\n",
    "two = sns.barplot(x=df_fem.Country_Abbreviation,y=df_fem.Two_Thousands)\n",
    "plt.xticks(rotation=90)"
   ]
  },
  {
   "cell_type": "markdown",
   "metadata": {},
   "source": [
    "# What does the data show\n",
    "\n",
    "Essentially what is seen by the data above is that the migration out of India has skyrocketted in the recent years. It does follow trends as would be expected (see the modelling below). This can most likely be described as a greater access to money for the entirety of the society which results in a greater amount of mobility for immigration. This increase in movement is seen at the scale of 1e6 which is not a small population. Of course this may make more sense for many other things that are Indian (desire for Indian food, Yoga, etc etc.) Just a guess, but some modelling would be nice\n"
   ]
  },
  {
   "cell_type": "markdown",
   "metadata": {},
   "source": [
    "# Creation of a Predictive Model\n",
    "Models to be used: Linear Regression, Logistic Regression, RidgeCV, LassoCV, ElasticNet, DecisionTree"
   ]
  },
  {
   "cell_type": "code",
   "execution_count": 21,
   "metadata": {},
   "outputs": [],
   "source": [
    "# Need to import the appropriate packages first\n",
    "from sklearn.model_selection import train_test_split, cross_val_score, GridSearchCV\n",
    "from sklearn.preprocessing import StandardScaler"
   ]
  },
  {
   "cell_type": "code",
   "execution_count": 22,
   "metadata": {},
   "outputs": [],
   "source": [
    "scaler = StandardScaler()"
   ]
  },
  {
   "cell_type": "code",
   "execution_count": 29,
   "metadata": {
    "collapsed": true,
    "jupyter": {
     "outputs_hidden": true
    }
   },
   "outputs": [
    {
     "data": {
      "text/html": [
       "<div>\n",
       "<style scoped>\n",
       "    .dataframe tbody tr th:only-of-type {\n",
       "        vertical-align: middle;\n",
       "    }\n",
       "\n",
       "    .dataframe tbody tr th {\n",
       "        vertical-align: top;\n",
       "    }\n",
       "\n",
       "    .dataframe thead th {\n",
       "        text-align: right;\n",
       "    }\n",
       "</style>\n",
       "<table border=\"1\" class=\"dataframe\">\n",
       "  <thead>\n",
       "    <tr style=\"text-align: right;\">\n",
       "      <th></th>\n",
       "      <th>index</th>\n",
       "    </tr>\n",
       "  </thead>\n",
       "  <tbody>\n",
       "    <tr>\n",
       "      <th>0</th>\n",
       "      <td>0</td>\n",
       "    </tr>\n",
       "    <tr>\n",
       "      <th>1</th>\n",
       "      <td>11</td>\n",
       "    </tr>\n",
       "    <tr>\n",
       "      <th>2</th>\n",
       "      <td>15</td>\n",
       "    </tr>\n",
       "    <tr>\n",
       "      <th>3</th>\n",
       "      <td>16</td>\n",
       "    </tr>\n",
       "    <tr>\n",
       "      <th>4</th>\n",
       "      <td>23</td>\n",
       "    </tr>\n",
       "    <tr>\n",
       "      <th>5</th>\n",
       "      <td>34</td>\n",
       "    </tr>\n",
       "    <tr>\n",
       "      <th>6</th>\n",
       "      <td>44</td>\n",
       "    </tr>\n",
       "    <tr>\n",
       "      <th>7</th>\n",
       "      <td>66</td>\n",
       "    </tr>\n",
       "    <tr>\n",
       "      <th>8</th>\n",
       "      <td>68</td>\n",
       "    </tr>\n",
       "    <tr>\n",
       "      <th>9</th>\n",
       "      <td>74</td>\n",
       "    </tr>\n",
       "    <tr>\n",
       "      <th>10</th>\n",
       "      <td>88</td>\n",
       "    </tr>\n",
       "    <tr>\n",
       "      <th>11</th>\n",
       "      <td>92</td>\n",
       "    </tr>\n",
       "    <tr>\n",
       "      <th>12</th>\n",
       "      <td>97</td>\n",
       "    </tr>\n",
       "    <tr>\n",
       "      <th>13</th>\n",
       "      <td>98</td>\n",
       "    </tr>\n",
       "    <tr>\n",
       "      <th>14</th>\n",
       "      <td>103</td>\n",
       "    </tr>\n",
       "    <tr>\n",
       "      <th>15</th>\n",
       "      <td>108</td>\n",
       "    </tr>\n",
       "    <tr>\n",
       "      <th>16</th>\n",
       "      <td>112</td>\n",
       "    </tr>\n",
       "    <tr>\n",
       "      <th>17</th>\n",
       "      <td>121</td>\n",
       "    </tr>\n",
       "    <tr>\n",
       "      <th>18</th>\n",
       "      <td>123</td>\n",
       "    </tr>\n",
       "    <tr>\n",
       "      <th>19</th>\n",
       "      <td>141</td>\n",
       "    </tr>\n",
       "    <tr>\n",
       "      <th>20</th>\n",
       "      <td>144</td>\n",
       "    </tr>\n",
       "    <tr>\n",
       "      <th>21</th>\n",
       "      <td>148</td>\n",
       "    </tr>\n",
       "    <tr>\n",
       "      <th>22</th>\n",
       "      <td>156</td>\n",
       "    </tr>\n",
       "    <tr>\n",
       "      <th>23</th>\n",
       "      <td>157</td>\n",
       "    </tr>\n",
       "    <tr>\n",
       "      <th>24</th>\n",
       "      <td>163</td>\n",
       "    </tr>\n",
       "    <tr>\n",
       "      <th>25</th>\n",
       "      <td>167</td>\n",
       "    </tr>\n",
       "    <tr>\n",
       "      <th>26</th>\n",
       "      <td>177</td>\n",
       "    </tr>\n",
       "    <tr>\n",
       "      <th>27</th>\n",
       "      <td>183</td>\n",
       "    </tr>\n",
       "    <tr>\n",
       "      <th>28</th>\n",
       "      <td>188</td>\n",
       "    </tr>\n",
       "    <tr>\n",
       "      <th>29</th>\n",
       "      <td>190</td>\n",
       "    </tr>\n",
       "    <tr>\n",
       "      <th>30</th>\n",
       "      <td>197</td>\n",
       "    </tr>\n",
       "    <tr>\n",
       "      <th>31</th>\n",
       "      <td>199</td>\n",
       "    </tr>\n",
       "    <tr>\n",
       "      <th>32</th>\n",
       "      <td>202</td>\n",
       "    </tr>\n",
       "    <tr>\n",
       "      <th>33</th>\n",
       "      <td>203</td>\n",
       "    </tr>\n",
       "    <tr>\n",
       "      <th>34</th>\n",
       "      <td>214</td>\n",
       "    </tr>\n",
       "    <tr>\n",
       "      <th>35</th>\n",
       "      <td>216</td>\n",
       "    </tr>\n",
       "    <tr>\n",
       "      <th>36</th>\n",
       "      <td>217</td>\n",
       "    </tr>\n",
       "    <tr>\n",
       "      <th>37</th>\n",
       "      <td>218</td>\n",
       "    </tr>\n",
       "    <tr>\n",
       "      <th>38</th>\n",
       "      <td>228</td>\n",
       "    </tr>\n",
       "    <tr>\n",
       "      <th>39</th>\n",
       "      <td>229</td>\n",
       "    </tr>\n",
       "  </tbody>\n",
       "</table>\n",
       "</div>"
      ],
      "text/plain": [
       "    index\n",
       "0       0\n",
       "1      11\n",
       "2      15\n",
       "3      16\n",
       "4      23\n",
       "5      34\n",
       "6      44\n",
       "7      66\n",
       "8      68\n",
       "9      74\n",
       "10     88\n",
       "11     92\n",
       "12     97\n",
       "13     98\n",
       "14    103\n",
       "15    108\n",
       "16    112\n",
       "17    121\n",
       "18    123\n",
       "19    141\n",
       "20    144\n",
       "21    148\n",
       "22    156\n",
       "23    157\n",
       "24    163\n",
       "25    167\n",
       "26    177\n",
       "27    183\n",
       "28    188\n",
       "29    190\n",
       "30    197\n",
       "31    199\n",
       "32    202\n",
       "33    203\n",
       "34    214\n",
       "35    216\n",
       "36    217\n",
       "37    218\n",
       "38    228\n",
       "39    229"
      ]
     },
     "execution_count": 29,
     "metadata": {},
     "output_type": "execute_result"
    }
   ],
   "source": [
    "X = df_fem.copy()\n",
    "y = X.pop('Country_Abbreviation')\n",
    "y = y.reset_index()\n",
    "y = y.drop(columns = 'Country_Abbreviation')"
   ]
  },
  {
   "cell_type": "code",
   "execution_count": 30,
   "metadata": {},
   "outputs": [],
   "source": [
    "Xs = scaler.fit(X)"
   ]
  },
  {
   "cell_type": "code",
   "execution_count": 31,
   "metadata": {},
   "outputs": [],
   "source": [
    "X_train, X_test, y_train, y_test = train_test_split(X,y, test_size = 0.2, random_state=1)"
   ]
  },
  {
   "cell_type": "code",
   "execution_count": null,
   "metadata": {},
   "outputs": [],
   "source": []
  },
  {
   "cell_type": "markdown",
   "metadata": {},
   "source": [
    "## Linear Regression"
   ]
  },
  {
   "cell_type": "code",
   "execution_count": 42,
   "metadata": {},
   "outputs": [],
   "source": [
    "from sklearn.linear_model import LinearRegression, RidgeCV, LassoCV, ElasticNetCV\n",
    "from sklearn.model_selection import cross_val_score, cross_val_predict\n",
    "from sklearn.metrics import r2_score\n",
    "from sklearn.pipeline import Pipeline, make_pipeline"
   ]
  },
  {
   "cell_type": "code",
   "execution_count": 43,
   "metadata": {},
   "outputs": [],
   "source": [
    "model_lr = LinearRegression()\n",
    "model_ridge = RidgeCV()\n",
    "model_elastic = ElasticNetCV()\n",
    "model_lasso = LassoCV()"
   ]
  },
  {
   "cell_type": "code",
   "execution_count": 44,
   "metadata": {},
   "outputs": [],
   "source": [
    "lr_pipe = Pipeline(steps=[('scaler', scaler),\n",
    "                          ('model', model_lr)])\n",
    "ridge_pipe = Pipeline(steps=[('scaler', scaler),\n",
    "                          ('model', model_ridge)])\n",
    "elastic_pipe = Pipeline(steps=[('scaler', scaler),\n",
    "                          ('model', model_elastic)])\n",
    "lasso_pipe = Pipeline(steps=[('scaler', scaler),\n",
    "                          ('model', model_lasso)])\n"
   ]
  },
  {
   "cell_type": "code",
   "execution_count": 48,
   "metadata": {},
   "outputs": [],
   "source": [
    "gs_lr_params = {'model__fit_intercept':[True], 'model__normalize':[False], 'model__copy_X':[True], 'model__n_jobs':[None]}\n",
    "gs_ridge_params = {'model__alphas':[0.1, 1.0, 10.0]}\n",
    "gs_elastic_params = {}\n",
    "gs_lasso_params = {}"
   ]
  },
  {
   "cell_type": "code",
   "execution_count": 49,
   "metadata": {},
   "outputs": [],
   "source": [
    "gs_lr = GridSearchCV(lr_pipe, gs_lr_params, cv=5, n_jobs=-1, verbose=1)\n",
    "gs_ridge = GridSearchCV(model_ridge, gs_ridge_params, cv=5, n_jobs=-1, verbose=1)\n",
    "gs_lasso = GridSearchCV(model_elastic, gs_elastic_params, cv=5, n_jobs=-1, verbose=1)\n",
    "gs_elastic = GridSearchCV(model_lasso, gs_lasso_params, cv=5, n_jobs=-1, verbose=1)"
   ]
  },
  {
   "cell_type": "code",
   "execution_count": 52,
   "metadata": {},
   "outputs": [
    {
     "data": {
      "text/plain": [
       "0.1744462703864672"
      ]
     },
     "execution_count": 52,
     "metadata": {},
     "output_type": "execute_result"
    }
   ],
   "source": [
    "model_lr.fit(X_train,y_train)\n",
    "model_lr.score(X_train,y_train)"
   ]
  },
  {
   "cell_type": "code",
   "execution_count": 53,
   "metadata": {},
   "outputs": [
    {
     "data": {
      "text/plain": [
       "0.17444625262757718"
      ]
     },
     "execution_count": 53,
     "metadata": {},
     "output_type": "execute_result"
    }
   ],
   "source": [
    "model_ridge.fit(X_train,y_train)\n",
    "model_ridge.score(X_train,y_train)"
   ]
  },
  {
   "cell_type": "code",
   "execution_count": 54,
   "metadata": {},
   "outputs": [
    {
     "name": "stderr",
     "output_type": "stream",
     "text": [
      "/Users/amitchandna/opt/anaconda3/lib/python3.7/site-packages/sklearn/linear_model/_coordinate_descent.py:1088: DataConversionWarning: A column-vector y was passed when a 1d array was expected. Please change the shape of y to (n_samples, ), for example using ravel().\n",
      "  y = column_or_1d(y, warn=True)\n",
      "/Users/amitchandna/opt/anaconda3/lib/python3.7/site-packages/sklearn/linear_model/_coordinate_descent.py:472: ConvergenceWarning: Objective did not converge. You might want to increase the number of iterations. Duality gap: 25.954803116517724, tolerance: 10.879616\n",
      "  tol, rng, random, positive)\n",
      "/Users/amitchandna/opt/anaconda3/lib/python3.7/site-packages/sklearn/linear_model/_coordinate_descent.py:472: ConvergenceWarning: Objective did not converge. You might want to increase the number of iterations. Duality gap: 22.928241678193444, tolerance: 10.879616\n",
      "  tol, rng, random, positive)\n",
      "/Users/amitchandna/opt/anaconda3/lib/python3.7/site-packages/sklearn/linear_model/_coordinate_descent.py:472: ConvergenceWarning: Objective did not converge. You might want to increase the number of iterations. Duality gap: 20.6518857635092, tolerance: 10.879616\n",
      "  tol, rng, random, positive)\n",
      "/Users/amitchandna/opt/anaconda3/lib/python3.7/site-packages/sklearn/linear_model/_coordinate_descent.py:472: ConvergenceWarning: Objective did not converge. You might want to increase the number of iterations. Duality gap: 18.870323064053082, tolerance: 10.879616\n",
      "  tol, rng, random, positive)\n",
      "/Users/amitchandna/opt/anaconda3/lib/python3.7/site-packages/sklearn/linear_model/_coordinate_descent.py:472: ConvergenceWarning: Objective did not converge. You might want to increase the number of iterations. Duality gap: 17.424105483893072, tolerance: 10.879616\n",
      "  tol, rng, random, positive)\n",
      "/Users/amitchandna/opt/anaconda3/lib/python3.7/site-packages/sklearn/linear_model/_coordinate_descent.py:472: ConvergenceWarning: Objective did not converge. You might want to increase the number of iterations. Duality gap: 16.212223791721044, tolerance: 10.879616\n",
      "  tol, rng, random, positive)\n",
      "/Users/amitchandna/opt/anaconda3/lib/python3.7/site-packages/sklearn/linear_model/_coordinate_descent.py:472: ConvergenceWarning: Objective did not converge. You might want to increase the number of iterations. Duality gap: 15.169729863802786, tolerance: 10.879616\n",
      "  tol, rng, random, positive)\n",
      "/Users/amitchandna/opt/anaconda3/lib/python3.7/site-packages/sklearn/linear_model/_coordinate_descent.py:472: ConvergenceWarning: Objective did not converge. You might want to increase the number of iterations. Duality gap: 14.25460999616189, tolerance: 10.879616\n",
      "  tol, rng, random, positive)\n",
      "/Users/amitchandna/opt/anaconda3/lib/python3.7/site-packages/sklearn/linear_model/_coordinate_descent.py:472: ConvergenceWarning: Objective did not converge. You might want to increase the number of iterations. Duality gap: 24.70130337063165, tolerance: 10.879616\n",
      "  tol, rng, random, positive)\n",
      "/Users/amitchandna/opt/anaconda3/lib/python3.7/site-packages/sklearn/linear_model/_coordinate_descent.py:472: ConvergenceWarning: Objective did not converge. You might want to increase the number of iterations. Duality gap: 47.259139324960415, tolerance: 10.879616\n",
      "  tol, rng, random, positive)\n",
      "/Users/amitchandna/opt/anaconda3/lib/python3.7/site-packages/sklearn/linear_model/_coordinate_descent.py:472: ConvergenceWarning: Objective did not converge. You might want to increase the number of iterations. Duality gap: 96.0986718769127, tolerance: 10.879616\n",
      "  tol, rng, random, positive)\n",
      "/Users/amitchandna/opt/anaconda3/lib/python3.7/site-packages/sklearn/linear_model/_coordinate_descent.py:472: ConvergenceWarning: Objective did not converge. You might want to increase the number of iterations. Duality gap: 218.3719289811561, tolerance: 10.879616\n",
      "  tol, rng, random, positive)\n",
      "/Users/amitchandna/opt/anaconda3/lib/python3.7/site-packages/sklearn/linear_model/_coordinate_descent.py:472: ConvergenceWarning: Objective did not converge. You might want to increase the number of iterations. Duality gap: 292.20302774888114, tolerance: 10.879616\n",
      "  tol, rng, random, positive)\n",
      "/Users/amitchandna/opt/anaconda3/lib/python3.7/site-packages/sklearn/linear_model/_coordinate_descent.py:472: ConvergenceWarning: Objective did not converge. You might want to increase the number of iterations. Duality gap: 287.5066840717045, tolerance: 10.879616\n",
      "  tol, rng, random, positive)\n",
      "/Users/amitchandna/opt/anaconda3/lib/python3.7/site-packages/sklearn/linear_model/_coordinate_descent.py:472: ConvergenceWarning: Objective did not converge. You might want to increase the number of iterations. Duality gap: 284.4633244927245, tolerance: 10.879616\n",
      "  tol, rng, random, positive)\n",
      "/Users/amitchandna/opt/anaconda3/lib/python3.7/site-packages/sklearn/linear_model/_coordinate_descent.py:472: ConvergenceWarning: Objective did not converge. You might want to increase the number of iterations. Duality gap: 284.3851484569459, tolerance: 10.879616\n",
      "  tol, rng, random, positive)\n",
      "/Users/amitchandna/opt/anaconda3/lib/python3.7/site-packages/sklearn/linear_model/_coordinate_descent.py:472: ConvergenceWarning: Objective did not converge. You might want to increase the number of iterations. Duality gap: 482.07514471573813, tolerance: 10.879616\n",
      "  tol, rng, random, positive)\n",
      "/Users/amitchandna/opt/anaconda3/lib/python3.7/site-packages/sklearn/linear_model/_coordinate_descent.py:472: ConvergenceWarning: Objective did not converge. You might want to increase the number of iterations. Duality gap: 687.5334970249387, tolerance: 10.879616\n",
      "  tol, rng, random, positive)\n",
      "/Users/amitchandna/opt/anaconda3/lib/python3.7/site-packages/sklearn/linear_model/_coordinate_descent.py:472: ConvergenceWarning: Objective did not converge. You might want to increase the number of iterations. Duality gap: 766.3451498455397, tolerance: 10.879616\n",
      "  tol, rng, random, positive)\n",
      "/Users/amitchandna/opt/anaconda3/lib/python3.7/site-packages/sklearn/linear_model/_coordinate_descent.py:472: ConvergenceWarning: Objective did not converge. You might want to increase the number of iterations. Duality gap: 781.4516086105577, tolerance: 10.879616\n",
      "  tol, rng, random, positive)\n",
      "/Users/amitchandna/opt/anaconda3/lib/python3.7/site-packages/sklearn/linear_model/_coordinate_descent.py:472: ConvergenceWarning: Objective did not converge. You might want to increase the number of iterations. Duality gap: 775.0997363472852, tolerance: 10.879616\n",
      "  tol, rng, random, positive)\n",
      "/Users/amitchandna/opt/anaconda3/lib/python3.7/site-packages/sklearn/linear_model/_coordinate_descent.py:472: ConvergenceWarning: Objective did not converge. You might want to increase the number of iterations. Duality gap: 765.2890033861186, tolerance: 10.879616\n",
      "  tol, rng, random, positive)\n",
      "/Users/amitchandna/opt/anaconda3/lib/python3.7/site-packages/sklearn/linear_model/_coordinate_descent.py:472: ConvergenceWarning: Objective did not converge. You might want to increase the number of iterations. Duality gap: 756.9998516657652, tolerance: 10.879616\n",
      "  tol, rng, random, positive)\n",
      "/Users/amitchandna/opt/anaconda3/lib/python3.7/site-packages/sklearn/linear_model/_coordinate_descent.py:472: ConvergenceWarning: Objective did not converge. You might want to increase the number of iterations. Duality gap: 750.5086137621547, tolerance: 10.879616\n",
      "  tol, rng, random, positive)\n",
      "/Users/amitchandna/opt/anaconda3/lib/python3.7/site-packages/sklearn/linear_model/_coordinate_descent.py:472: ConvergenceWarning: Objective did not converge. You might want to increase the number of iterations. Duality gap: 745.0928026309557, tolerance: 10.879616\n",
      "  tol, rng, random, positive)\n",
      "/Users/amitchandna/opt/anaconda3/lib/python3.7/site-packages/sklearn/linear_model/_coordinate_descent.py:472: ConvergenceWarning: Objective did not converge. You might want to increase the number of iterations. Duality gap: 740.168909903965, tolerance: 10.879616\n",
      "  tol, rng, random, positive)\n",
      "/Users/amitchandna/opt/anaconda3/lib/python3.7/site-packages/sklearn/linear_model/_coordinate_descent.py:472: ConvergenceWarning: Objective did not converge. You might want to increase the number of iterations. Duality gap: 735.4461514763534, tolerance: 10.879616\n",
      "  tol, rng, random, positive)\n",
      "/Users/amitchandna/opt/anaconda3/lib/python3.7/site-packages/sklearn/linear_model/_coordinate_descent.py:472: ConvergenceWarning: Objective did not converge. You might want to increase the number of iterations. Duality gap: 730.8268603015167, tolerance: 10.879616\n",
      "  tol, rng, random, positive)\n",
      "/Users/amitchandna/opt/anaconda3/lib/python3.7/site-packages/sklearn/linear_model/_coordinate_descent.py:472: ConvergenceWarning: Objective did not converge. You might want to increase the number of iterations. Duality gap: 726.3014892529754, tolerance: 10.879616\n",
      "  tol, rng, random, positive)\n",
      "/Users/amitchandna/opt/anaconda3/lib/python3.7/site-packages/sklearn/linear_model/_coordinate_descent.py:472: ConvergenceWarning: Objective did not converge. You might want to increase the number of iterations. Duality gap: 25.225440899914247, tolerance: 12.332184615384616\n",
      "  tol, rng, random, positive)\n",
      "/Users/amitchandna/opt/anaconda3/lib/python3.7/site-packages/sklearn/linear_model/_coordinate_descent.py:472: ConvergenceWarning: Objective did not converge. You might want to increase the number of iterations. Duality gap: 85.22556933239684, tolerance: 12.332184615384616\n",
      "  tol, rng, random, positive)\n",
      "/Users/amitchandna/opt/anaconda3/lib/python3.7/site-packages/sklearn/linear_model/_coordinate_descent.py:472: ConvergenceWarning: Objective did not converge. You might want to increase the number of iterations. Duality gap: 106.47042783761572, tolerance: 12.332184615384616\n",
      "  tol, rng, random, positive)\n",
      "/Users/amitchandna/opt/anaconda3/lib/python3.7/site-packages/sklearn/linear_model/_coordinate_descent.py:472: ConvergenceWarning: Objective did not converge. You might want to increase the number of iterations. Duality gap: 100.37557125951571, tolerance: 12.332184615384616\n",
      "  tol, rng, random, positive)\n",
      "/Users/amitchandna/opt/anaconda3/lib/python3.7/site-packages/sklearn/linear_model/_coordinate_descent.py:472: ConvergenceWarning: Objective did not converge. You might want to increase the number of iterations. Duality gap: 95.01153493695892, tolerance: 12.332184615384616\n",
      "  tol, rng, random, positive)\n",
      "/Users/amitchandna/opt/anaconda3/lib/python3.7/site-packages/sklearn/linear_model/_coordinate_descent.py:472: ConvergenceWarning: Objective did not converge. You might want to increase the number of iterations. Duality gap: 90.38816342817154, tolerance: 12.332184615384616\n",
      "  tol, rng, random, positive)\n",
      "/Users/amitchandna/opt/anaconda3/lib/python3.7/site-packages/sklearn/linear_model/_coordinate_descent.py:472: ConvergenceWarning: Objective did not converge. You might want to increase the number of iterations. Duality gap: 86.37368201001664, tolerance: 12.332184615384616\n",
      "  tol, rng, random, positive)\n",
      "/Users/amitchandna/opt/anaconda3/lib/python3.7/site-packages/sklearn/linear_model/_coordinate_descent.py:472: ConvergenceWarning: Objective did not converge. You might want to increase the number of iterations. Duality gap: 82.86394929875678, tolerance: 12.332184615384616\n",
      "  tol, rng, random, positive)\n",
      "/Users/amitchandna/opt/anaconda3/lib/python3.7/site-packages/sklearn/linear_model/_coordinate_descent.py:472: ConvergenceWarning: Objective did not converge. You might want to increase the number of iterations. Duality gap: 79.77611048700055, tolerance: 12.332184615384616\n",
      "  tol, rng, random, positive)\n",
      "/Users/amitchandna/opt/anaconda3/lib/python3.7/site-packages/sklearn/linear_model/_coordinate_descent.py:472: ConvergenceWarning: Objective did not converge. You might want to increase the number of iterations. Duality gap: 77.04369459481677, tolerance: 12.332184615384616\n",
      "  tol, rng, random, positive)\n",
      "/Users/amitchandna/opt/anaconda3/lib/python3.7/site-packages/sklearn/linear_model/_coordinate_descent.py:472: ConvergenceWarning: Objective did not converge. You might want to increase the number of iterations. Duality gap: 74.61295121074363, tolerance: 12.332184615384616\n",
      "  tol, rng, random, positive)\n",
      "/Users/amitchandna/opt/anaconda3/lib/python3.7/site-packages/sklearn/linear_model/_coordinate_descent.py:472: ConvergenceWarning: Objective did not converge. You might want to increase the number of iterations. Duality gap: 72.44008728931658, tolerance: 12.332184615384616\n",
      "  tol, rng, random, positive)\n",
      "/Users/amitchandna/opt/anaconda3/lib/python3.7/site-packages/sklearn/linear_model/_coordinate_descent.py:472: ConvergenceWarning: Objective did not converge. You might want to increase the number of iterations. Duality gap: 70.48916423723858, tolerance: 12.332184615384616\n",
      "  tol, rng, random, positive)\n",
      "/Users/amitchandna/opt/anaconda3/lib/python3.7/site-packages/sklearn/linear_model/_coordinate_descent.py:472: ConvergenceWarning: Objective did not converge. You might want to increase the number of iterations. Duality gap: 68.73048324826232, tolerance: 12.332184615384616\n",
      "  tol, rng, random, positive)\n",
      "/Users/amitchandna/opt/anaconda3/lib/python3.7/site-packages/sklearn/linear_model/_coordinate_descent.py:472: ConvergenceWarning: Objective did not converge. You might want to increase the number of iterations. Duality gap: 67.13933682645438, tolerance: 12.332184615384616\n",
      "  tol, rng, random, positive)\n",
      "/Users/amitchandna/opt/anaconda3/lib/python3.7/site-packages/sklearn/linear_model/_coordinate_descent.py:472: ConvergenceWarning: Objective did not converge. You might want to increase the number of iterations. Duality gap: 65.69503514267853, tolerance: 12.332184615384616\n",
      "  tol, rng, random, positive)\n",
      "/Users/amitchandna/opt/anaconda3/lib/python3.7/site-packages/sklearn/linear_model/_coordinate_descent.py:472: ConvergenceWarning: Objective did not converge. You might want to increase the number of iterations. Duality gap: 64.38014242656936, tolerance: 12.332184615384616\n",
      "  tol, rng, random, positive)\n",
      "/Users/amitchandna/opt/anaconda3/lib/python3.7/site-packages/sklearn/linear_model/_coordinate_descent.py:472: ConvergenceWarning: Objective did not converge. You might want to increase the number of iterations. Duality gap: 63.17987380058912, tolerance: 12.332184615384616\n",
      "  tol, rng, random, positive)\n",
      "/Users/amitchandna/opt/anaconda3/lib/python3.7/site-packages/sklearn/linear_model/_coordinate_descent.py:472: ConvergenceWarning: Objective did not converge. You might want to increase the number of iterations. Duality gap: 62.081616460491205, tolerance: 12.332184615384616\n",
      "  tol, rng, random, positive)\n",
      "/Users/amitchandna/opt/anaconda3/lib/python3.7/site-packages/sklearn/linear_model/_coordinate_descent.py:472: ConvergenceWarning: Objective did not converge. You might want to increase the number of iterations. Duality gap: 61.07454701070674, tolerance: 12.332184615384616\n",
      "  tol, rng, random, positive)\n",
      "/Users/amitchandna/opt/anaconda3/lib/python3.7/site-packages/sklearn/linear_model/_coordinate_descent.py:472: ConvergenceWarning: Objective did not converge. You might want to increase the number of iterations. Duality gap: 60.14932420857076, tolerance: 12.332184615384616\n",
      "  tol, rng, random, positive)\n",
      "/Users/amitchandna/opt/anaconda3/lib/python3.7/site-packages/sklearn/linear_model/_coordinate_descent.py:472: ConvergenceWarning: Objective did not converge. You might want to increase the number of iterations. Duality gap: 59.297841413193964, tolerance: 12.332184615384616\n",
      "  tol, rng, random, positive)\n",
      "/Users/amitchandna/opt/anaconda3/lib/python3.7/site-packages/sklearn/linear_model/_coordinate_descent.py:472: ConvergenceWarning: Objective did not converge. You might want to increase the number of iterations. Duality gap: 58.513025360152824, tolerance: 12.332184615384616\n",
      "  tol, rng, random, positive)\n",
      "/Users/amitchandna/opt/anaconda3/lib/python3.7/site-packages/sklearn/linear_model/_coordinate_descent.py:472: ConvergenceWarning: Objective did not converge. You might want to increase the number of iterations. Duality gap: 57.788673028713674, tolerance: 12.332184615384616\n",
      "  tol, rng, random, positive)\n",
      "/Users/amitchandna/opt/anaconda3/lib/python3.7/site-packages/sklearn/linear_model/_coordinate_descent.py:472: ConvergenceWarning: Objective did not converge. You might want to increase the number of iterations. Duality gap: 57.11931738590647, tolerance: 12.332184615384616\n",
      "  tol, rng, random, positive)\n",
      "/Users/amitchandna/opt/anaconda3/lib/python3.7/site-packages/sklearn/linear_model/_coordinate_descent.py:472: ConvergenceWarning: Objective did not converge. You might want to increase the number of iterations. Duality gap: 56.50011763036309, tolerance: 12.332184615384616\n",
      "  tol, rng, random, positive)\n",
      "/Users/amitchandna/opt/anaconda3/lib/python3.7/site-packages/sklearn/linear_model/_coordinate_descent.py:472: ConvergenceWarning: Objective did not converge. You might want to increase the number of iterations. Duality gap: 55.926768095974694, tolerance: 12.332184615384616\n",
      "  tol, rng, random, positive)\n",
      "/Users/amitchandna/opt/anaconda3/lib/python3.7/site-packages/sklearn/linear_model/_coordinate_descent.py:472: ConvergenceWarning: Objective did not converge. You might want to increase the number of iterations. Duality gap: 55.39542377059115, tolerance: 12.332184615384616\n",
      "  tol, rng, random, positive)\n",
      "/Users/amitchandna/opt/anaconda3/lib/python3.7/site-packages/sklearn/linear_model/_coordinate_descent.py:472: ConvergenceWarning: Objective did not converge. You might want to increase the number of iterations. Duality gap: 54.90263657851028, tolerance: 12.332184615384616\n",
      "  tol, rng, random, positive)\n",
      "/Users/amitchandna/opt/anaconda3/lib/python3.7/site-packages/sklearn/linear_model/_coordinate_descent.py:472: ConvergenceWarning: Objective did not converge. You might want to increase the number of iterations. Duality gap: 54.44530383232632, tolerance: 12.332184615384616\n",
      "  tol, rng, random, positive)\n",
      "/Users/amitchandna/opt/anaconda3/lib/python3.7/site-packages/sklearn/linear_model/_coordinate_descent.py:472: ConvergenceWarning: Objective did not converge. You might want to increase the number of iterations. Duality gap: 18.914328548053163, tolerance: 9.369111538461539\n",
      "  tol, rng, random, positive)\n",
      "/Users/amitchandna/opt/anaconda3/lib/python3.7/site-packages/sklearn/linear_model/_coordinate_descent.py:472: ConvergenceWarning: Objective did not converge. You might want to increase the number of iterations. Duality gap: 20.649150842582458, tolerance: 9.369111538461539\n",
      "  tol, rng, random, positive)\n",
      "/Users/amitchandna/opt/anaconda3/lib/python3.7/site-packages/sklearn/linear_model/_coordinate_descent.py:472: ConvergenceWarning: Objective did not converge. You might want to increase the number of iterations. Duality gap: 73.84189978877839, tolerance: 9.369111538461539\n",
      "  tol, rng, random, positive)\n",
      "/Users/amitchandna/opt/anaconda3/lib/python3.7/site-packages/sklearn/linear_model/_coordinate_descent.py:472: ConvergenceWarning: Objective did not converge. You might want to increase the number of iterations. Duality gap: 101.1719648630824, tolerance: 9.369111538461539\n",
      "  tol, rng, random, positive)\n",
      "/Users/amitchandna/opt/anaconda3/lib/python3.7/site-packages/sklearn/linear_model/_coordinate_descent.py:472: ConvergenceWarning: Objective did not converge. You might want to increase the number of iterations. Duality gap: 110.84656857643859, tolerance: 9.369111538461539\n",
      "  tol, rng, random, positive)\n",
      "/Users/amitchandna/opt/anaconda3/lib/python3.7/site-packages/sklearn/linear_model/_coordinate_descent.py:472: ConvergenceWarning: Objective did not converge. You might want to increase the number of iterations. Duality gap: 113.46897028153762, tolerance: 9.369111538461539\n",
      "  tol, rng, random, positive)\n",
      "/Users/amitchandna/opt/anaconda3/lib/python3.7/site-packages/sklearn/linear_model/_coordinate_descent.py:472: ConvergenceWarning: Objective did not converge. You might want to increase the number of iterations. Duality gap: 113.41043576442462, tolerance: 9.369111538461539\n",
      "  tol, rng, random, positive)\n",
      "/Users/amitchandna/opt/anaconda3/lib/python3.7/site-packages/sklearn/linear_model/_coordinate_descent.py:472: ConvergenceWarning: Objective did not converge. You might want to increase the number of iterations. Duality gap: 112.24337004420522, tolerance: 9.369111538461539\n",
      "  tol, rng, random, positive)\n",
      "/Users/amitchandna/opt/anaconda3/lib/python3.7/site-packages/sklearn/linear_model/_coordinate_descent.py:472: ConvergenceWarning: Objective did not converge. You might want to increase the number of iterations. Duality gap: 110.54081460335874, tolerance: 9.369111538461539\n",
      "  tol, rng, random, positive)\n",
      "/Users/amitchandna/opt/anaconda3/lib/python3.7/site-packages/sklearn/linear_model/_coordinate_descent.py:472: ConvergenceWarning: Objective did not converge. You might want to increase the number of iterations. Duality gap: 178.87385255575646, tolerance: 9.369111538461539\n",
      "  tol, rng, random, positive)\n",
      "/Users/amitchandna/opt/anaconda3/lib/python3.7/site-packages/sklearn/linear_model/_coordinate_descent.py:472: ConvergenceWarning: Objective did not converge. You might want to increase the number of iterations. Duality gap: 252.11668168554024, tolerance: 9.369111538461539\n",
      "  tol, rng, random, positive)\n",
      "/Users/amitchandna/opt/anaconda3/lib/python3.7/site-packages/sklearn/linear_model/_coordinate_descent.py:472: ConvergenceWarning: Objective did not converge. You might want to increase the number of iterations. Duality gap: 318.3948528484616, tolerance: 9.369111538461539\n",
      "  tol, rng, random, positive)\n",
      "/Users/amitchandna/opt/anaconda3/lib/python3.7/site-packages/sklearn/linear_model/_coordinate_descent.py:472: ConvergenceWarning: Objective did not converge. You might want to increase the number of iterations. Duality gap: 375.9251535752119, tolerance: 9.369111538461539\n",
      "  tol, rng, random, positive)\n",
      "/Users/amitchandna/opt/anaconda3/lib/python3.7/site-packages/sklearn/linear_model/_coordinate_descent.py:472: ConvergenceWarning: Objective did not converge. You might want to increase the number of iterations. Duality gap: 424.64848676434485, tolerance: 9.369111538461539\n",
      "  tol, rng, random, positive)\n",
      "/Users/amitchandna/opt/anaconda3/lib/python3.7/site-packages/sklearn/linear_model/_coordinate_descent.py:472: ConvergenceWarning: Objective did not converge. You might want to increase the number of iterations. Duality gap: 24.236934264205047, tolerance: 9.369111538461539\n",
      "  tol, rng, random, positive)\n",
      "/Users/amitchandna/opt/anaconda3/lib/python3.7/site-packages/sklearn/linear_model/_coordinate_descent.py:472: ConvergenceWarning: Objective did not converge. You might want to increase the number of iterations. Duality gap: 22.82614872191334, tolerance: 9.369111538461539\n",
      "  tol, rng, random, positive)\n",
      "/Users/amitchandna/opt/anaconda3/lib/python3.7/site-packages/sklearn/linear_model/_coordinate_descent.py:472: ConvergenceWarning: Objective did not converge. You might want to increase the number of iterations. Duality gap: 22.046277717934572, tolerance: 9.369111538461539\n",
      "  tol, rng, random, positive)\n",
      "/Users/amitchandna/opt/anaconda3/lib/python3.7/site-packages/sklearn/linear_model/_coordinate_descent.py:472: ConvergenceWarning: Objective did not converge. You might want to increase the number of iterations. Duality gap: 21.339202742034104, tolerance: 9.369111538461539\n",
      "  tol, rng, random, positive)\n",
      "/Users/amitchandna/opt/anaconda3/lib/python3.7/site-packages/sklearn/linear_model/_coordinate_descent.py:472: ConvergenceWarning: Objective did not converge. You might want to increase the number of iterations. Duality gap: 20.647235222015297, tolerance: 9.369111538461539\n",
      "  tol, rng, random, positive)\n",
      "/Users/amitchandna/opt/anaconda3/lib/python3.7/site-packages/sklearn/linear_model/_coordinate_descent.py:472: ConvergenceWarning: Objective did not converge. You might want to increase the number of iterations. Duality gap: 19.967346570134396, tolerance: 9.369111538461539\n",
      "  tol, rng, random, positive)\n",
      "/Users/amitchandna/opt/anaconda3/lib/python3.7/site-packages/sklearn/linear_model/_coordinate_descent.py:472: ConvergenceWarning: Objective did not converge. You might want to increase the number of iterations. Duality gap: 19.302428066032007, tolerance: 9.369111538461539\n",
      "  tol, rng, random, positive)\n",
      "/Users/amitchandna/opt/anaconda3/lib/python3.7/site-packages/sklearn/linear_model/_coordinate_descent.py:472: ConvergenceWarning: Objective did not converge. You might want to increase the number of iterations. Duality gap: 18.655384226643946, tolerance: 9.369111538461539\n",
      "  tol, rng, random, positive)\n",
      "/Users/amitchandna/opt/anaconda3/lib/python3.7/site-packages/sklearn/linear_model/_coordinate_descent.py:472: ConvergenceWarning: Objective did not converge. You might want to increase the number of iterations. Duality gap: 18.028502697343356, tolerance: 9.369111538461539\n",
      "  tol, rng, random, positive)\n",
      "/Users/amitchandna/opt/anaconda3/lib/python3.7/site-packages/sklearn/linear_model/_coordinate_descent.py:472: ConvergenceWarning: Objective did not converge. You might want to increase the number of iterations. Duality gap: 17.42348263695021, tolerance: 9.369111538461539\n",
      "  tol, rng, random, positive)\n",
      "/Users/amitchandna/opt/anaconda3/lib/python3.7/site-packages/sklearn/linear_model/_coordinate_descent.py:472: ConvergenceWarning: Objective did not converge. You might want to increase the number of iterations. Duality gap: 94.64146412268747, tolerance: 9.369111538461539\n",
      "  tol, rng, random, positive)\n",
      "/Users/amitchandna/opt/anaconda3/lib/python3.7/site-packages/sklearn/linear_model/_coordinate_descent.py:472: ConvergenceWarning: Objective did not converge. You might want to increase the number of iterations. Duality gap: 267.4517690436478, tolerance: 9.369111538461539\n",
      "  tol, rng, random, positive)\n",
      "/Users/amitchandna/opt/anaconda3/lib/python3.7/site-packages/sklearn/linear_model/_coordinate_descent.py:472: ConvergenceWarning: Objective did not converge. You might want to increase the number of iterations. Duality gap: 324.41774019092554, tolerance: 9.369111538461539\n",
      "  tol, rng, random, positive)\n",
      "/Users/amitchandna/opt/anaconda3/lib/python3.7/site-packages/sklearn/linear_model/_coordinate_descent.py:472: ConvergenceWarning: Objective did not converge. You might want to increase the number of iterations. Duality gap: 341.8570720580028, tolerance: 9.369111538461539\n",
      "  tol, rng, random, positive)\n",
      "/Users/amitchandna/opt/anaconda3/lib/python3.7/site-packages/sklearn/linear_model/_coordinate_descent.py:472: ConvergenceWarning: Objective did not converge. You might want to increase the number of iterations. Duality gap: 344.9396827953897, tolerance: 9.369111538461539\n",
      "  tol, rng, random, positive)\n",
      "/Users/amitchandna/opt/anaconda3/lib/python3.7/site-packages/sklearn/linear_model/_coordinate_descent.py:472: ConvergenceWarning: Objective did not converge. You might want to increase the number of iterations. Duality gap: 11.72125148383202, tolerance: 11.350096153846156\n",
      "  tol, rng, random, positive)\n",
      "/Users/amitchandna/opt/anaconda3/lib/python3.7/site-packages/sklearn/linear_model/_coordinate_descent.py:472: ConvergenceWarning: Objective did not converge. You might want to increase the number of iterations. Duality gap: 14.13198118674336, tolerance: 11.350096153846156\n",
      "  tol, rng, random, positive)\n",
      "/Users/amitchandna/opt/anaconda3/lib/python3.7/site-packages/sklearn/linear_model/_coordinate_descent.py:472: ConvergenceWarning: Objective did not converge. You might want to increase the number of iterations. Duality gap: 13.055972108180868, tolerance: 11.350096153846156\n",
      "  tol, rng, random, positive)\n",
      "/Users/amitchandna/opt/anaconda3/lib/python3.7/site-packages/sklearn/linear_model/_coordinate_descent.py:472: ConvergenceWarning: Objective did not converge. You might want to increase the number of iterations. Duality gap: 12.180117816882557, tolerance: 11.350096153846156\n",
      "  tol, rng, random, positive)\n",
      "/Users/amitchandna/opt/anaconda3/lib/python3.7/site-packages/sklearn/linear_model/_coordinate_descent.py:472: ConvergenceWarning: Objective did not converge. You might want to increase the number of iterations. Duality gap: 37.880473888042616, tolerance: 11.350096153846156\n",
      "  tol, rng, random, positive)\n",
      "/Users/amitchandna/opt/anaconda3/lib/python3.7/site-packages/sklearn/linear_model/_coordinate_descent.py:472: ConvergenceWarning: Objective did not converge. You might want to increase the number of iterations. Duality gap: 43.12848805625981, tolerance: 11.350096153846156\n",
      "  tol, rng, random, positive)\n",
      "/Users/amitchandna/opt/anaconda3/lib/python3.7/site-packages/sklearn/linear_model/_coordinate_descent.py:472: ConvergenceWarning: Objective did not converge. You might want to increase the number of iterations. Duality gap: 43.99823949413258, tolerance: 11.350096153846156\n",
      "  tol, rng, random, positive)\n",
      "/Users/amitchandna/opt/anaconda3/lib/python3.7/site-packages/sklearn/linear_model/_coordinate_descent.py:472: ConvergenceWarning: Objective did not converge. You might want to increase the number of iterations. Duality gap: 77.30034130923741, tolerance: 11.350096153846156\n",
      "  tol, rng, random, positive)\n",
      "/Users/amitchandna/opt/anaconda3/lib/python3.7/site-packages/sklearn/linear_model/_coordinate_descent.py:472: ConvergenceWarning: Objective did not converge. You might want to increase the number of iterations. Duality gap: 151.6321444883215, tolerance: 11.350096153846156\n",
      "  tol, rng, random, positive)\n",
      "/Users/amitchandna/opt/anaconda3/lib/python3.7/site-packages/sklearn/linear_model/_coordinate_descent.py:472: ConvergenceWarning: Objective did not converge. You might want to increase the number of iterations. Duality gap: 239.2697291722434, tolerance: 11.350096153846156\n",
      "  tol, rng, random, positive)\n",
      "/Users/amitchandna/opt/anaconda3/lib/python3.7/site-packages/sklearn/linear_model/_coordinate_descent.py:472: ConvergenceWarning: Objective did not converge. You might want to increase the number of iterations. Duality gap: 333.30885309270525, tolerance: 11.350096153846156\n",
      "  tol, rng, random, positive)\n",
      "/Users/amitchandna/opt/anaconda3/lib/python3.7/site-packages/sklearn/linear_model/_coordinate_descent.py:472: ConvergenceWarning: Objective did not converge. You might want to increase the number of iterations. Duality gap: 430.23018055087596, tolerance: 11.350096153846156\n",
      "  tol, rng, random, positive)\n",
      "/Users/amitchandna/opt/anaconda3/lib/python3.7/site-packages/sklearn/linear_model/_coordinate_descent.py:472: ConvergenceWarning: Objective did not converge. You might want to increase the number of iterations. Duality gap: 527.9049700323521, tolerance: 11.350096153846156\n",
      "  tol, rng, random, positive)\n",
      "/Users/amitchandna/opt/anaconda3/lib/python3.7/site-packages/sklearn/linear_model/_coordinate_descent.py:472: ConvergenceWarning: Objective did not converge. You might want to increase the number of iterations. Duality gap: 624.9426286640955, tolerance: 11.350096153846156\n",
      "  tol, rng, random, positive)\n",
      "/Users/amitchandna/opt/anaconda3/lib/python3.7/site-packages/sklearn/linear_model/_coordinate_descent.py:472: ConvergenceWarning: Objective did not converge. You might want to increase the number of iterations. Duality gap: 720.4225167855184, tolerance: 11.350096153846156\n",
      "  tol, rng, random, positive)\n",
      "/Users/amitchandna/opt/anaconda3/lib/python3.7/site-packages/sklearn/linear_model/_coordinate_descent.py:472: ConvergenceWarning: Objective did not converge. You might want to increase the number of iterations. Duality gap: 813.7440984395071, tolerance: 11.350096153846156\n",
      "  tol, rng, random, positive)\n",
      "/Users/amitchandna/opt/anaconda3/lib/python3.7/site-packages/sklearn/linear_model/_coordinate_descent.py:472: ConvergenceWarning: Objective did not converge. You might want to increase the number of iterations. Duality gap: 904.528049073575, tolerance: 11.350096153846156\n",
      "  tol, rng, random, positive)\n",
      "/Users/amitchandna/opt/anaconda3/lib/python3.7/site-packages/sklearn/linear_model/_coordinate_descent.py:472: ConvergenceWarning: Objective did not converge. You might want to increase the number of iterations. Duality gap: 992.547600269565, tolerance: 11.350096153846156\n",
      "  tol, rng, random, positive)\n",
      "/Users/amitchandna/opt/anaconda3/lib/python3.7/site-packages/sklearn/linear_model/_coordinate_descent.py:472: ConvergenceWarning: Objective did not converge. You might want to increase the number of iterations. Duality gap: 16.83980095757579, tolerance: 11.350096153846156\n",
      "  tol, rng, random, positive)\n",
      "/Users/amitchandna/opt/anaconda3/lib/python3.7/site-packages/sklearn/linear_model/_coordinate_descent.py:472: ConvergenceWarning: Objective did not converge. You might want to increase the number of iterations. Duality gap: 306.484583287398, tolerance: 11.350096153846156\n",
      "  tol, rng, random, positive)\n",
      "/Users/amitchandna/opt/anaconda3/lib/python3.7/site-packages/sklearn/linear_model/_coordinate_descent.py:472: ConvergenceWarning: Objective did not converge. You might want to increase the number of iterations. Duality gap: 483.11295097426046, tolerance: 11.350096153846156\n",
      "  tol, rng, random, positive)\n",
      "/Users/amitchandna/opt/anaconda3/lib/python3.7/site-packages/sklearn/linear_model/_coordinate_descent.py:472: ConvergenceWarning: Objective did not converge. You might want to increase the number of iterations. Duality gap: 558.9694579373026, tolerance: 11.350096153846156\n",
      "  tol, rng, random, positive)\n",
      "/Users/amitchandna/opt/anaconda3/lib/python3.7/site-packages/sklearn/linear_model/_coordinate_descent.py:472: ConvergenceWarning: Objective did not converge. You might want to increase the number of iterations. Duality gap: 587.5534970628069, tolerance: 11.350096153846156\n",
      "  tol, rng, random, positive)\n",
      "/Users/amitchandna/opt/anaconda3/lib/python3.7/site-packages/sklearn/linear_model/_coordinate_descent.py:472: ConvergenceWarning: Objective did not converge. You might want to increase the number of iterations. Duality gap: 596.4989533744956, tolerance: 11.350096153846156\n",
      "  tol, rng, random, positive)\n",
      "/Users/amitchandna/opt/anaconda3/lib/python3.7/site-packages/sklearn/linear_model/_coordinate_descent.py:472: ConvergenceWarning: Objective did not converge. You might want to increase the number of iterations. Duality gap: 597.5988678290014, tolerance: 11.350096153846156\n",
      "  tol, rng, random, positive)\n",
      "/Users/amitchandna/opt/anaconda3/lib/python3.7/site-packages/sklearn/linear_model/_coordinate_descent.py:472: ConvergenceWarning: Objective did not converge. You might want to increase the number of iterations. Duality gap: 595.634456120024, tolerance: 11.350096153846156\n",
      "  tol, rng, random, positive)\n",
      "/Users/amitchandna/opt/anaconda3/lib/python3.7/site-packages/sklearn/linear_model/_coordinate_descent.py:472: ConvergenceWarning: Objective did not converge. You might want to increase the number of iterations. Duality gap: 592.5160841444012, tolerance: 11.350096153846156\n",
      "  tol, rng, random, positive)\n",
      "/Users/amitchandna/opt/anaconda3/lib/python3.7/site-packages/sklearn/linear_model/_coordinate_descent.py:472: ConvergenceWarning: Objective did not converge. You might want to increase the number of iterations. Duality gap: 589.007195546903, tolerance: 11.350096153846156\n",
      "  tol, rng, random, positive)\n",
      "/Users/amitchandna/opt/anaconda3/lib/python3.7/site-packages/sklearn/linear_model/_coordinate_descent.py:472: ConvergenceWarning: Objective did not converge. You might want to increase the number of iterations. Duality gap: 585.415998231183, tolerance: 11.350096153846156\n",
      "  tol, rng, random, positive)\n",
      "/Users/amitchandna/opt/anaconda3/lib/python3.7/site-packages/sklearn/linear_model/_coordinate_descent.py:472: ConvergenceWarning: Objective did not converge. You might want to increase the number of iterations. Duality gap: 581.869517044659, tolerance: 11.350096153846156\n",
      "  tol, rng, random, positive)\n",
      "/Users/amitchandna/opt/anaconda3/lib/python3.7/site-packages/sklearn/linear_model/_coordinate_descent.py:472: ConvergenceWarning: Objective did not converge. You might want to increase the number of iterations. Duality gap: 578.4218126995838, tolerance: 11.350096153846156\n",
      "  tol, rng, random, positive)\n",
      "/Users/amitchandna/opt/anaconda3/lib/python3.7/site-packages/sklearn/linear_model/_coordinate_descent.py:472: ConvergenceWarning: Objective did not converge. You might want to increase the number of iterations. Duality gap: 575.0968045585178, tolerance: 11.350096153846156\n",
      "  tol, rng, random, positive)\n"
     ]
    },
    {
     "data": {
      "text/plain": [
       "0.1377667928147418"
      ]
     },
     "execution_count": 54,
     "metadata": {},
     "output_type": "execute_result"
    }
   ],
   "source": [
    "model_elastic.fit(X_train,y_train)\n",
    "model_elastic.score(X_train,y_train)"
   ]
  },
  {
   "cell_type": "code",
   "execution_count": 55,
   "metadata": {},
   "outputs": [
    {
     "name": "stderr",
     "output_type": "stream",
     "text": [
      "/Users/amitchandna/opt/anaconda3/lib/python3.7/site-packages/sklearn/linear_model/_coordinate_descent.py:1088: DataConversionWarning: A column-vector y was passed when a 1d array was expected. Please change the shape of y to (n_samples, ), for example using ravel().\n",
      "  y = column_or_1d(y, warn=True)\n",
      "/Users/amitchandna/opt/anaconda3/lib/python3.7/site-packages/sklearn/linear_model/_coordinate_descent.py:472: ConvergenceWarning: Objective did not converge. You might want to increase the number of iterations. Duality gap: 25.700875259542954, tolerance: 10.879616\n",
      "  tol, rng, random, positive)\n",
      "/Users/amitchandna/opt/anaconda3/lib/python3.7/site-packages/sklearn/linear_model/_coordinate_descent.py:472: ConvergenceWarning: Objective did not converge. You might want to increase the number of iterations. Duality gap: 22.7958782157948, tolerance: 10.879616\n",
      "  tol, rng, random, positive)\n",
      "/Users/amitchandna/opt/anaconda3/lib/python3.7/site-packages/sklearn/linear_model/_coordinate_descent.py:472: ConvergenceWarning: Objective did not converge. You might want to increase the number of iterations. Duality gap: 20.591722896831925, tolerance: 10.879616\n",
      "  tol, rng, random, positive)\n",
      "/Users/amitchandna/opt/anaconda3/lib/python3.7/site-packages/sklearn/linear_model/_coordinate_descent.py:472: ConvergenceWarning: Objective did not converge. You might want to increase the number of iterations. Duality gap: 18.852697498514317, tolerance: 10.879616\n",
      "  tol, rng, random, positive)\n",
      "/Users/amitchandna/opt/anaconda3/lib/python3.7/site-packages/sklearn/linear_model/_coordinate_descent.py:472: ConvergenceWarning: Objective did not converge. You might want to increase the number of iterations. Duality gap: 17.4310754371254, tolerance: 10.879616\n",
      "  tol, rng, random, positive)\n",
      "/Users/amitchandna/opt/anaconda3/lib/python3.7/site-packages/sklearn/linear_model/_coordinate_descent.py:472: ConvergenceWarning: Objective did not converge. You might want to increase the number of iterations. Duality gap: 16.232912224004394, tolerance: 10.879616\n",
      "  tol, rng, random, positive)\n",
      "/Users/amitchandna/opt/anaconda3/lib/python3.7/site-packages/sklearn/linear_model/_coordinate_descent.py:472: ConvergenceWarning: Objective did not converge. You might want to increase the number of iterations. Duality gap: 15.197557474748464, tolerance: 10.879616\n",
      "  tol, rng, random, positive)\n",
      "/Users/amitchandna/opt/anaconda3/lib/python3.7/site-packages/sklearn/linear_model/_coordinate_descent.py:472: ConvergenceWarning: Objective did not converge. You might want to increase the number of iterations. Duality gap: 14.285646820280817, tolerance: 10.879616\n",
      "  tol, rng, random, positive)\n",
      "/Users/amitchandna/opt/anaconda3/lib/python3.7/site-packages/sklearn/linear_model/_coordinate_descent.py:472: ConvergenceWarning: Objective did not converge. You might want to increase the number of iterations. Duality gap: 24.816245222376892, tolerance: 10.879616\n",
      "  tol, rng, random, positive)\n",
      "/Users/amitchandna/opt/anaconda3/lib/python3.7/site-packages/sklearn/linear_model/_coordinate_descent.py:472: ConvergenceWarning: Objective did not converge. You might want to increase the number of iterations. Duality gap: 47.36210806264717, tolerance: 10.879616\n",
      "  tol, rng, random, positive)\n",
      "/Users/amitchandna/opt/anaconda3/lib/python3.7/site-packages/sklearn/linear_model/_coordinate_descent.py:472: ConvergenceWarning: Objective did not converge. You might want to increase the number of iterations. Duality gap: 96.22247418793268, tolerance: 10.879616\n",
      "  tol, rng, random, positive)\n",
      "/Users/amitchandna/opt/anaconda3/lib/python3.7/site-packages/sklearn/linear_model/_coordinate_descent.py:472: ConvergenceWarning: Objective did not converge. You might want to increase the number of iterations. Duality gap: 219.26958723613643, tolerance: 10.879616\n",
      "  tol, rng, random, positive)\n",
      "/Users/amitchandna/opt/anaconda3/lib/python3.7/site-packages/sklearn/linear_model/_coordinate_descent.py:472: ConvergenceWarning: Objective did not converge. You might want to increase the number of iterations. Duality gap: 292.51364667571033, tolerance: 10.879616\n",
      "  tol, rng, random, positive)\n",
      "/Users/amitchandna/opt/anaconda3/lib/python3.7/site-packages/sklearn/linear_model/_coordinate_descent.py:472: ConvergenceWarning: Objective did not converge. You might want to increase the number of iterations. Duality gap: 287.80907665076666, tolerance: 10.879616\n",
      "  tol, rng, random, positive)\n",
      "/Users/amitchandna/opt/anaconda3/lib/python3.7/site-packages/sklearn/linear_model/_coordinate_descent.py:472: ConvergenceWarning: Objective did not converge. You might want to increase the number of iterations. Duality gap: 284.74446825977066, tolerance: 10.879616\n",
      "  tol, rng, random, positive)\n",
      "/Users/amitchandna/opt/anaconda3/lib/python3.7/site-packages/sklearn/linear_model/_coordinate_descent.py:472: ConvergenceWarning: Objective did not converge. You might want to increase the number of iterations. Duality gap: 284.5975030892878, tolerance: 10.879616\n",
      "  tol, rng, random, positive)\n",
      "/Users/amitchandna/opt/anaconda3/lib/python3.7/site-packages/sklearn/linear_model/_coordinate_descent.py:472: ConvergenceWarning: Objective did not converge. You might want to increase the number of iterations. Duality gap: 483.62039004791586, tolerance: 10.879616\n",
      "  tol, rng, random, positive)\n",
      "/Users/amitchandna/opt/anaconda3/lib/python3.7/site-packages/sklearn/linear_model/_coordinate_descent.py:472: ConvergenceWarning: Objective did not converge. You might want to increase the number of iterations. Duality gap: 688.6453175742499, tolerance: 10.879616\n",
      "  tol, rng, random, positive)\n",
      "/Users/amitchandna/opt/anaconda3/lib/python3.7/site-packages/sklearn/linear_model/_coordinate_descent.py:472: ConvergenceWarning: Objective did not converge. You might want to increase the number of iterations. Duality gap: 767.1451556583197, tolerance: 10.879616\n",
      "  tol, rng, random, positive)\n",
      "/Users/amitchandna/opt/anaconda3/lib/python3.7/site-packages/sklearn/linear_model/_coordinate_descent.py:472: ConvergenceWarning: Objective did not converge. You might want to increase the number of iterations. Duality gap: 782.0847674021788, tolerance: 10.879616\n",
      "  tol, rng, random, positive)\n",
      "/Users/amitchandna/opt/anaconda3/lib/python3.7/site-packages/sklearn/linear_model/_coordinate_descent.py:472: ConvergenceWarning: Objective did not converge. You might want to increase the number of iterations. Duality gap: 775.643240866877, tolerance: 10.879616\n",
      "  tol, rng, random, positive)\n",
      "/Users/amitchandna/opt/anaconda3/lib/python3.7/site-packages/sklearn/linear_model/_coordinate_descent.py:472: ConvergenceWarning: Objective did not converge. You might want to increase the number of iterations. Duality gap: 765.771867733929, tolerance: 10.879616\n",
      "  tol, rng, random, positive)\n",
      "/Users/amitchandna/opt/anaconda3/lib/python3.7/site-packages/sklearn/linear_model/_coordinate_descent.py:472: ConvergenceWarning: Objective did not converge. You might want to increase the number of iterations. Duality gap: 757.4312011679867, tolerance: 10.879616\n",
      "  tol, rng, random, positive)\n",
      "/Users/amitchandna/opt/anaconda3/lib/python3.7/site-packages/sklearn/linear_model/_coordinate_descent.py:472: ConvergenceWarning: Objective did not converge. You might want to increase the number of iterations. Duality gap: 750.892344054897, tolerance: 10.879616\n",
      "  tol, rng, random, positive)\n",
      "/Users/amitchandna/opt/anaconda3/lib/python3.7/site-packages/sklearn/linear_model/_coordinate_descent.py:472: ConvergenceWarning: Objective did not converge. You might want to increase the number of iterations. Duality gap: 745.4318331326504, tolerance: 10.879616\n",
      "  tol, rng, random, positive)\n",
      "/Users/amitchandna/opt/anaconda3/lib/python3.7/site-packages/sklearn/linear_model/_coordinate_descent.py:472: ConvergenceWarning: Objective did not converge. You might want to increase the number of iterations. Duality gap: 740.466225096141, tolerance: 10.879616\n",
      "  tol, rng, random, positive)\n",
      "/Users/amitchandna/opt/anaconda3/lib/python3.7/site-packages/sklearn/linear_model/_coordinate_descent.py:472: ConvergenceWarning: Objective did not converge. You might want to increase the number of iterations. Duality gap: 735.704733488572, tolerance: 10.879616\n",
      "  tol, rng, random, positive)\n",
      "/Users/amitchandna/opt/anaconda3/lib/python3.7/site-packages/sklearn/linear_model/_coordinate_descent.py:472: ConvergenceWarning: Objective did not converge. You might want to increase the number of iterations. Duality gap: 731.0495219372679, tolerance: 10.879616\n",
      "  tol, rng, random, positive)\n",
      "/Users/amitchandna/opt/anaconda3/lib/python3.7/site-packages/sklearn/linear_model/_coordinate_descent.py:472: ConvergenceWarning: Objective did not converge. You might want to increase the number of iterations. Duality gap: 726.4908584580844, tolerance: 10.879616\n",
      "  tol, rng, random, positive)\n",
      "/Users/amitchandna/opt/anaconda3/lib/python3.7/site-packages/sklearn/linear_model/_coordinate_descent.py:472: ConvergenceWarning: Objective did not converge. You might want to increase the number of iterations. Duality gap: 25.584043122406, tolerance: 12.332184615384616\n",
      "  tol, rng, random, positive)\n",
      "/Users/amitchandna/opt/anaconda3/lib/python3.7/site-packages/sklearn/linear_model/_coordinate_descent.py:472: ConvergenceWarning: Objective did not converge. You might want to increase the number of iterations. Duality gap: 85.66189031887916, tolerance: 12.332184615384616\n",
      "  tol, rng, random, positive)\n",
      "/Users/amitchandna/opt/anaconda3/lib/python3.7/site-packages/sklearn/linear_model/_coordinate_descent.py:472: ConvergenceWarning: Objective did not converge. You might want to increase the number of iterations. Duality gap: 106.75573112037091, tolerance: 12.332184615384616\n",
      "  tol, rng, random, positive)\n",
      "/Users/amitchandna/opt/anaconda3/lib/python3.7/site-packages/sklearn/linear_model/_coordinate_descent.py:472: ConvergenceWarning: Objective did not converge. You might want to increase the number of iterations. Duality gap: 100.65776430907135, tolerance: 12.332184615384616\n",
      "  tol, rng, random, positive)\n",
      "/Users/amitchandna/opt/anaconda3/lib/python3.7/site-packages/sklearn/linear_model/_coordinate_descent.py:472: ConvergenceWarning: Objective did not converge. You might want to increase the number of iterations. Duality gap: 95.2781603942858, tolerance: 12.332184615384616\n",
      "  tol, rng, random, positive)\n",
      "/Users/amitchandna/opt/anaconda3/lib/python3.7/site-packages/sklearn/linear_model/_coordinate_descent.py:472: ConvergenceWarning: Objective did not converge. You might want to increase the number of iterations. Duality gap: 90.63072782843665, tolerance: 12.332184615384616\n",
      "  tol, rng, random, positive)\n",
      "/Users/amitchandna/opt/anaconda3/lib/python3.7/site-packages/sklearn/linear_model/_coordinate_descent.py:472: ConvergenceWarning: Objective did not converge. You might want to increase the number of iterations. Duality gap: 86.586617618319, tolerance: 12.332184615384616\n",
      "  tol, rng, random, positive)\n",
      "/Users/amitchandna/opt/anaconda3/lib/python3.7/site-packages/sklearn/linear_model/_coordinate_descent.py:472: ConvergenceWarning: Objective did not converge. You might want to increase the number of iterations. Duality gap: 83.04379397735465, tolerance: 12.332184615384616\n",
      "  tol, rng, random, positive)\n",
      "/Users/amitchandna/opt/anaconda3/lib/python3.7/site-packages/sklearn/linear_model/_coordinate_descent.py:472: ConvergenceWarning: Objective did not converge. You might want to increase the number of iterations. Duality gap: 79.92092045262689, tolerance: 12.332184615384616\n",
      "  tol, rng, random, positive)\n",
      "/Users/amitchandna/opt/anaconda3/lib/python3.7/site-packages/sklearn/linear_model/_coordinate_descent.py:472: ConvergenceWarning: Objective did not converge. You might want to increase the number of iterations. Duality gap: 77.15261988325801, tolerance: 12.332184615384616\n",
      "  tol, rng, random, positive)\n",
      "/Users/amitchandna/opt/anaconda3/lib/python3.7/site-packages/sklearn/linear_model/_coordinate_descent.py:472: ConvergenceWarning: Objective did not converge. You might want to increase the number of iterations. Duality gap: 74.68592629152408, tolerance: 12.332184615384616\n",
      "  tol, rng, random, positive)\n",
      "/Users/amitchandna/opt/anaconda3/lib/python3.7/site-packages/sklearn/linear_model/_coordinate_descent.py:472: ConvergenceWarning: Objective did not converge. You might want to increase the number of iterations. Duality gap: 72.47760414918594, tolerance: 12.332184615384616\n",
      "  tol, rng, random, positive)\n",
      "/Users/amitchandna/opt/anaconda3/lib/python3.7/site-packages/sklearn/linear_model/_coordinate_descent.py:472: ConvergenceWarning: Objective did not converge. You might want to increase the number of iterations. Duality gap: 70.49210492506973, tolerance: 12.332184615384616\n",
      "  tol, rng, random, positive)\n",
      "/Users/amitchandna/opt/anaconda3/lib/python3.7/site-packages/sklearn/linear_model/_coordinate_descent.py:472: ConvergenceWarning: Objective did not converge. You might want to increase the number of iterations. Duality gap: 68.69999630725943, tolerance: 12.332184615384616\n",
      "  tol, rng, random, positive)\n",
      "/Users/amitchandna/opt/anaconda3/lib/python3.7/site-packages/sklearn/linear_model/_coordinate_descent.py:472: ConvergenceWarning: Objective did not converge. You might want to increase the number of iterations. Duality gap: 67.07674552900426, tolerance: 12.332184615384616\n",
      "  tol, rng, random, positive)\n",
      "/Users/amitchandna/opt/anaconda3/lib/python3.7/site-packages/sklearn/linear_model/_coordinate_descent.py:472: ConvergenceWarning: Objective did not converge. You might want to increase the number of iterations. Duality gap: 65.60176941449754, tolerance: 12.332184615384616\n",
      "  tol, rng, random, positive)\n",
      "/Users/amitchandna/opt/anaconda3/lib/python3.7/site-packages/sklearn/linear_model/_coordinate_descent.py:472: ConvergenceWarning: Objective did not converge. You might want to increase the number of iterations. Duality gap: 64.25768894489738, tolerance: 12.332184615384616\n",
      "  tol, rng, random, positive)\n",
      "/Users/amitchandna/opt/anaconda3/lib/python3.7/site-packages/sklearn/linear_model/_coordinate_descent.py:472: ConvergenceWarning: Objective did not converge. You might want to increase the number of iterations. Duality gap: 63.02973883683444, tolerance: 12.332184615384616\n",
      "  tol, rng, random, positive)\n",
      "/Users/amitchandna/opt/anaconda3/lib/python3.7/site-packages/sklearn/linear_model/_coordinate_descent.py:472: ConvergenceWarning: Objective did not converge. You might want to increase the number of iterations. Duality gap: 61.905299130652566, tolerance: 12.332184615384616\n",
      "  tol, rng, random, positive)\n",
      "/Users/amitchandna/opt/anaconda3/lib/python3.7/site-packages/sklearn/linear_model/_coordinate_descent.py:472: ConvergenceWarning: Objective did not converge. You might want to increase the number of iterations. Duality gap: 60.873519541477435, tolerance: 12.332184615384616\n",
      "  tol, rng, random, positive)\n",
      "/Users/amitchandna/opt/anaconda3/lib/python3.7/site-packages/sklearn/linear_model/_coordinate_descent.py:472: ConvergenceWarning: Objective did not converge. You might want to increase the number of iterations. Duality gap: 59.925018647831166, tolerance: 12.332184615384616\n",
      "  tol, rng, random, positive)\n",
      "/Users/amitchandna/opt/anaconda3/lib/python3.7/site-packages/sklearn/linear_model/_coordinate_descent.py:472: ConvergenceWarning: Objective did not converge. You might want to increase the number of iterations. Duality gap: 59.051639942772454, tolerance: 12.332184615384616\n",
      "  tol, rng, random, positive)\n",
      "/Users/amitchandna/opt/anaconda3/lib/python3.7/site-packages/sklearn/linear_model/_coordinate_descent.py:472: ConvergenceWarning: Objective did not converge. You might want to increase the number of iterations. Duality gap: 58.24625422399549, tolerance: 12.332184615384616\n",
      "  tol, rng, random, positive)\n",
      "/Users/amitchandna/opt/anaconda3/lib/python3.7/site-packages/sklearn/linear_model/_coordinate_descent.py:472: ConvergenceWarning: Objective did not converge. You might want to increase the number of iterations. Duality gap: 57.50259873087634, tolerance: 12.332184615384616\n",
      "  tol, rng, random, positive)\n",
      "/Users/amitchandna/opt/anaconda3/lib/python3.7/site-packages/sklearn/linear_model/_coordinate_descent.py:472: ConvergenceWarning: Objective did not converge. You might want to increase the number of iterations. Duality gap: 56.815144709995366, tolerance: 12.332184615384616\n",
      "  tol, rng, random, positive)\n",
      "/Users/amitchandna/opt/anaconda3/lib/python3.7/site-packages/sklearn/linear_model/_coordinate_descent.py:472: ConvergenceWarning: Objective did not converge. You might want to increase the number of iterations. Duality gap: 56.17898918231367, tolerance: 12.332184615384616\n",
      "  tol, rng, random, positive)\n",
      "/Users/amitchandna/opt/anaconda3/lib/python3.7/site-packages/sklearn/linear_model/_coordinate_descent.py:472: ConvergenceWarning: Objective did not converge. You might want to increase the number of iterations. Duality gap: 55.5897649237304, tolerance: 12.332184615384616\n",
      "  tol, rng, random, positive)\n",
      "/Users/amitchandna/opt/anaconda3/lib/python3.7/site-packages/sklearn/linear_model/_coordinate_descent.py:472: ConvergenceWarning: Objective did not converge. You might want to increase the number of iterations. Duality gap: 55.0435659817158, tolerance: 12.332184615384616\n",
      "  tol, rng, random, positive)\n",
      "/Users/amitchandna/opt/anaconda3/lib/python3.7/site-packages/sklearn/linear_model/_coordinate_descent.py:472: ConvergenceWarning: Objective did not converge. You might want to increase the number of iterations. Duality gap: 54.53688557833084, tolerance: 12.332184615384616\n",
      "  tol, rng, random, positive)\n",
      "/Users/amitchandna/opt/anaconda3/lib/python3.7/site-packages/sklearn/linear_model/_coordinate_descent.py:472: ConvergenceWarning: Objective did not converge. You might want to increase the number of iterations. Duality gap: 54.06656419268984, tolerance: 12.332184615384616\n",
      "  tol, rng, random, positive)\n",
      "/Users/amitchandna/opt/anaconda3/lib/python3.7/site-packages/sklearn/linear_model/_coordinate_descent.py:472: ConvergenceWarning: Objective did not converge. You might want to increase the number of iterations. Duality gap: 18.99723275459837, tolerance: 9.369111538461539\n",
      "  tol, rng, random, positive)\n",
      "/Users/amitchandna/opt/anaconda3/lib/python3.7/site-packages/sklearn/linear_model/_coordinate_descent.py:472: ConvergenceWarning: Objective did not converge. You might want to increase the number of iterations. Duality gap: 20.551852897348, tolerance: 9.369111538461539\n",
      "  tol, rng, random, positive)\n",
      "/Users/amitchandna/opt/anaconda3/lib/python3.7/site-packages/sklearn/linear_model/_coordinate_descent.py:472: ConvergenceWarning: Objective did not converge. You might want to increase the number of iterations. Duality gap: 73.7643714393198, tolerance: 9.369111538461539\n",
      "  tol, rng, random, positive)\n",
      "/Users/amitchandna/opt/anaconda3/lib/python3.7/site-packages/sklearn/linear_model/_coordinate_descent.py:472: ConvergenceWarning: Objective did not converge. You might want to increase the number of iterations. Duality gap: 101.12809637811733, tolerance: 9.369111538461539\n",
      "  tol, rng, random, positive)\n",
      "/Users/amitchandna/opt/anaconda3/lib/python3.7/site-packages/sklearn/linear_model/_coordinate_descent.py:472: ConvergenceWarning: Objective did not converge. You might want to increase the number of iterations. Duality gap: 110.79851516915369, tolerance: 9.369111538461539\n",
      "  tol, rng, random, positive)\n",
      "/Users/amitchandna/opt/anaconda3/lib/python3.7/site-packages/sklearn/linear_model/_coordinate_descent.py:472: ConvergenceWarning: Objective did not converge. You might want to increase the number of iterations. Duality gap: 113.39433845148596, tolerance: 9.369111538461539\n",
      "  tol, rng, random, positive)\n",
      "/Users/amitchandna/opt/anaconda3/lib/python3.7/site-packages/sklearn/linear_model/_coordinate_descent.py:472: ConvergenceWarning: Objective did not converge. You might want to increase the number of iterations. Duality gap: 113.3014651761332, tolerance: 9.369111538461539\n",
      "  tol, rng, random, positive)\n",
      "/Users/amitchandna/opt/anaconda3/lib/python3.7/site-packages/sklearn/linear_model/_coordinate_descent.py:472: ConvergenceWarning: Objective did not converge. You might want to increase the number of iterations. Duality gap: 112.09948829044879, tolerance: 9.369111538461539\n",
      "  tol, rng, random, positive)\n",
      "/Users/amitchandna/opt/anaconda3/lib/python3.7/site-packages/sklearn/linear_model/_coordinate_descent.py:472: ConvergenceWarning: Objective did not converge. You might want to increase the number of iterations. Duality gap: 110.36433034697257, tolerance: 9.369111538461539\n",
      "  tol, rng, random, positive)\n",
      "/Users/amitchandna/opt/anaconda3/lib/python3.7/site-packages/sklearn/linear_model/_coordinate_descent.py:472: ConvergenceWarning: Objective did not converge. You might want to increase the number of iterations. Duality gap: 180.13166383137286, tolerance: 9.369111538461539\n",
      "  tol, rng, random, positive)\n",
      "/Users/amitchandna/opt/anaconda3/lib/python3.7/site-packages/sklearn/linear_model/_coordinate_descent.py:472: ConvergenceWarning: Objective did not converge. You might want to increase the number of iterations. Duality gap: 253.37425143066503, tolerance: 9.369111538461539\n",
      "  tol, rng, random, positive)\n",
      "/Users/amitchandna/opt/anaconda3/lib/python3.7/site-packages/sklearn/linear_model/_coordinate_descent.py:472: ConvergenceWarning: Objective did not converge. You might want to increase the number of iterations. Duality gap: 319.58175867056707, tolerance: 9.369111538461539\n",
      "  tol, rng, random, positive)\n",
      "/Users/amitchandna/opt/anaconda3/lib/python3.7/site-packages/sklearn/linear_model/_coordinate_descent.py:472: ConvergenceWarning: Objective did not converge. You might want to increase the number of iterations. Duality gap: 377.01946002252225, tolerance: 9.369111538461539\n",
      "  tol, rng, random, positive)\n",
      "/Users/amitchandna/opt/anaconda3/lib/python3.7/site-packages/sklearn/linear_model/_coordinate_descent.py:472: ConvergenceWarning: Objective did not converge. You might want to increase the number of iterations. Duality gap: 425.6417887354328, tolerance: 9.369111538461539\n",
      "  tol, rng, random, positive)\n",
      "/Users/amitchandna/opt/anaconda3/lib/python3.7/site-packages/sklearn/linear_model/_coordinate_descent.py:472: ConvergenceWarning: Objective did not converge. You might want to increase the number of iterations. Duality gap: 24.292026938026538, tolerance: 9.369111538461539\n",
      "  tol, rng, random, positive)\n",
      "/Users/amitchandna/opt/anaconda3/lib/python3.7/site-packages/sklearn/linear_model/_coordinate_descent.py:472: ConvergenceWarning: Objective did not converge. You might want to increase the number of iterations. Duality gap: 22.841754777851747, tolerance: 9.369111538461539\n",
      "  tol, rng, random, positive)\n",
      "/Users/amitchandna/opt/anaconda3/lib/python3.7/site-packages/sklearn/linear_model/_coordinate_descent.py:472: ConvergenceWarning: Objective did not converge. You might want to increase the number of iterations. Duality gap: 22.055252901642234, tolerance: 9.369111538461539\n",
      "  tol, rng, random, positive)\n",
      "/Users/amitchandna/opt/anaconda3/lib/python3.7/site-packages/sklearn/linear_model/_coordinate_descent.py:472: ConvergenceWarning: Objective did not converge. You might want to increase the number of iterations. Duality gap: 21.34540356870275, tolerance: 9.369111538461539\n",
      "  tol, rng, random, positive)\n",
      "/Users/amitchandna/opt/anaconda3/lib/python3.7/site-packages/sklearn/linear_model/_coordinate_descent.py:472: ConvergenceWarning: Objective did not converge. You might want to increase the number of iterations. Duality gap: 20.651353548048064, tolerance: 9.369111538461539\n",
      "  tol, rng, random, positive)\n",
      "/Users/amitchandna/opt/anaconda3/lib/python3.7/site-packages/sklearn/linear_model/_coordinate_descent.py:472: ConvergenceWarning: Objective did not converge. You might want to increase the number of iterations. Duality gap: 19.969660274873604, tolerance: 9.369111538461539\n",
      "  tol, rng, random, positive)\n",
      "/Users/amitchandna/opt/anaconda3/lib/python3.7/site-packages/sklearn/linear_model/_coordinate_descent.py:472: ConvergenceWarning: Objective did not converge. You might want to increase the number of iterations. Duality gap: 19.30314472745522, tolerance: 9.369111538461539\n",
      "  tol, rng, random, positive)\n",
      "/Users/amitchandna/opt/anaconda3/lib/python3.7/site-packages/sklearn/linear_model/_coordinate_descent.py:472: ConvergenceWarning: Objective did not converge. You might want to increase the number of iterations. Duality gap: 18.654686093475902, tolerance: 9.369111538461539\n",
      "  tol, rng, random, positive)\n",
      "/Users/amitchandna/opt/anaconda3/lib/python3.7/site-packages/sklearn/linear_model/_coordinate_descent.py:472: ConvergenceWarning: Objective did not converge. You might want to increase the number of iterations. Duality gap: 18.02655309261172, tolerance: 9.369111538461539\n",
      "  tol, rng, random, positive)\n",
      "/Users/amitchandna/opt/anaconda3/lib/python3.7/site-packages/sklearn/linear_model/_coordinate_descent.py:472: ConvergenceWarning: Objective did not converge. You might want to increase the number of iterations. Duality gap: 17.420428411656758, tolerance: 9.369111538461539\n",
      "  tol, rng, random, positive)\n",
      "/Users/amitchandna/opt/anaconda3/lib/python3.7/site-packages/sklearn/linear_model/_coordinate_descent.py:472: ConvergenceWarning: Objective did not converge. You might want to increase the number of iterations. Duality gap: 96.06386822993227, tolerance: 9.369111538461539\n",
      "  tol, rng, random, positive)\n",
      "/Users/amitchandna/opt/anaconda3/lib/python3.7/site-packages/sklearn/linear_model/_coordinate_descent.py:472: ConvergenceWarning: Objective did not converge. You might want to increase the number of iterations. Duality gap: 268.07526184542803, tolerance: 9.369111538461539\n",
      "  tol, rng, random, positive)\n",
      "/Users/amitchandna/opt/anaconda3/lib/python3.7/site-packages/sklearn/linear_model/_coordinate_descent.py:472: ConvergenceWarning: Objective did not converge. You might want to increase the number of iterations. Duality gap: 324.66194119323336, tolerance: 9.369111538461539\n",
      "  tol, rng, random, positive)\n",
      "/Users/amitchandna/opt/anaconda3/lib/python3.7/site-packages/sklearn/linear_model/_coordinate_descent.py:472: ConvergenceWarning: Objective did not converge. You might want to increase the number of iterations. Duality gap: 341.9610519671114, tolerance: 9.369111538461539\n",
      "  tol, rng, random, positive)\n",
      "/Users/amitchandna/opt/anaconda3/lib/python3.7/site-packages/sklearn/linear_model/_coordinate_descent.py:472: ConvergenceWarning: Objective did not converge. You might want to increase the number of iterations. Duality gap: 344.9879958713136, tolerance: 9.369111538461539\n",
      "  tol, rng, random, positive)\n",
      "/Users/amitchandna/opt/anaconda3/lib/python3.7/site-packages/sklearn/linear_model/_coordinate_descent.py:472: ConvergenceWarning: Objective did not converge. You might want to increase the number of iterations. Duality gap: 11.747086132440018, tolerance: 11.350096153846156\n",
      "  tol, rng, random, positive)\n",
      "/Users/amitchandna/opt/anaconda3/lib/python3.7/site-packages/sklearn/linear_model/_coordinate_descent.py:472: ConvergenceWarning: Objective did not converge. You might want to increase the number of iterations. Duality gap: 14.203848126941011, tolerance: 11.350096153846156\n",
      "  tol, rng, random, positive)\n",
      "/Users/amitchandna/opt/anaconda3/lib/python3.7/site-packages/sklearn/linear_model/_coordinate_descent.py:472: ConvergenceWarning: Objective did not converge. You might want to increase the number of iterations. Duality gap: 13.124639674584614, tolerance: 11.350096153846156\n",
      "  tol, rng, random, positive)\n",
      "/Users/amitchandna/opt/anaconda3/lib/python3.7/site-packages/sklearn/linear_model/_coordinate_descent.py:472: ConvergenceWarning: Objective did not converge. You might want to increase the number of iterations. Duality gap: 12.190601400259766, tolerance: 11.350096153846156\n",
      "  tol, rng, random, positive)\n",
      "/Users/amitchandna/opt/anaconda3/lib/python3.7/site-packages/sklearn/linear_model/_coordinate_descent.py:472: ConvergenceWarning: Objective did not converge. You might want to increase the number of iterations. Duality gap: 37.97060311290261, tolerance: 11.350096153846156\n",
      "  tol, rng, random, positive)\n",
      "/Users/amitchandna/opt/anaconda3/lib/python3.7/site-packages/sklearn/linear_model/_coordinate_descent.py:472: ConvergenceWarning: Objective did not converge. You might want to increase the number of iterations. Duality gap: 43.2390307001333, tolerance: 11.350096153846156\n",
      "  tol, rng, random, positive)\n",
      "/Users/amitchandna/opt/anaconda3/lib/python3.7/site-packages/sklearn/linear_model/_coordinate_descent.py:472: ConvergenceWarning: Objective did not converge. You might want to increase the number of iterations. Duality gap: 44.104120089745265, tolerance: 11.350096153846156\n",
      "  tol, rng, random, positive)\n",
      "/Users/amitchandna/opt/anaconda3/lib/python3.7/site-packages/sklearn/linear_model/_coordinate_descent.py:472: ConvergenceWarning: Objective did not converge. You might want to increase the number of iterations. Duality gap: 77.50755004132225, tolerance: 11.350096153846156\n",
      "  tol, rng, random, positive)\n",
      "/Users/amitchandna/opt/anaconda3/lib/python3.7/site-packages/sklearn/linear_model/_coordinate_descent.py:472: ConvergenceWarning: Objective did not converge. You might want to increase the number of iterations. Duality gap: 152.00783388056152, tolerance: 11.350096153846156\n",
      "  tol, rng, random, positive)\n",
      "/Users/amitchandna/opt/anaconda3/lib/python3.7/site-packages/sklearn/linear_model/_coordinate_descent.py:472: ConvergenceWarning: Objective did not converge. You might want to increase the number of iterations. Duality gap: 239.83375541272108, tolerance: 11.350096153846156\n",
      "  tol, rng, random, positive)\n",
      "/Users/amitchandna/opt/anaconda3/lib/python3.7/site-packages/sklearn/linear_model/_coordinate_descent.py:472: ConvergenceWarning: Objective did not converge. You might want to increase the number of iterations. Duality gap: 334.08626032978646, tolerance: 11.350096153846156\n",
      "  tol, rng, random, positive)\n",
      "/Users/amitchandna/opt/anaconda3/lib/python3.7/site-packages/sklearn/linear_model/_coordinate_descent.py:472: ConvergenceWarning: Objective did not converge. You might want to increase the number of iterations. Duality gap: 431.23260795130045, tolerance: 11.350096153846156\n",
      "  tol, rng, random, positive)\n",
      "/Users/amitchandna/opt/anaconda3/lib/python3.7/site-packages/sklearn/linear_model/_coordinate_descent.py:472: ConvergenceWarning: Objective did not converge. You might want to increase the number of iterations. Duality gap: 529.1314186738455, tolerance: 11.350096153846156\n",
      "  tol, rng, random, positive)\n",
      "/Users/amitchandna/opt/anaconda3/lib/python3.7/site-packages/sklearn/linear_model/_coordinate_descent.py:472: ConvergenceWarning: Objective did not converge. You might want to increase the number of iterations. Duality gap: 626.3810931173502, tolerance: 11.350096153846156\n",
      "  tol, rng, random, positive)\n",
      "/Users/amitchandna/opt/anaconda3/lib/python3.7/site-packages/sklearn/linear_model/_coordinate_descent.py:472: ConvergenceWarning: Objective did not converge. You might want to increase the number of iterations. Duality gap: 722.0518950390833, tolerance: 11.350096153846156\n",
      "  tol, rng, random, positive)\n",
      "/Users/amitchandna/opt/anaconda3/lib/python3.7/site-packages/sklearn/linear_model/_coordinate_descent.py:472: ConvergenceWarning: Objective did not converge. You might want to increase the number of iterations. Duality gap: 815.5361111329548, tolerance: 11.350096153846156\n",
      "  tol, rng, random, positive)\n",
      "/Users/amitchandna/opt/anaconda3/lib/python3.7/site-packages/sklearn/linear_model/_coordinate_descent.py:472: ConvergenceWarning: Objective did not converge. You might want to increase the number of iterations. Duality gap: 906.4490197528648, tolerance: 11.350096153846156\n",
      "  tol, rng, random, positive)\n",
      "/Users/amitchandna/opt/anaconda3/lib/python3.7/site-packages/sklearn/linear_model/_coordinate_descent.py:472: ConvergenceWarning: Objective did not converge. You might want to increase the number of iterations. Duality gap: 994.5600290430739, tolerance: 11.350096153846156\n",
      "  tol, rng, random, positive)\n",
      "/Users/amitchandna/opt/anaconda3/lib/python3.7/site-packages/sklearn/linear_model/_coordinate_descent.py:472: ConvergenceWarning: Objective did not converge. You might want to increase the number of iterations. Duality gap: 18.711173805204453, tolerance: 11.350096153846156\n",
      "  tol, rng, random, positive)\n",
      "/Users/amitchandna/opt/anaconda3/lib/python3.7/site-packages/sklearn/linear_model/_coordinate_descent.py:472: ConvergenceWarning: Objective did not converge. You might want to increase the number of iterations. Duality gap: 308.1654165228101, tolerance: 11.350096153846156\n",
      "  tol, rng, random, positive)\n",
      "/Users/amitchandna/opt/anaconda3/lib/python3.7/site-packages/sklearn/linear_model/_coordinate_descent.py:472: ConvergenceWarning: Objective did not converge. You might want to increase the number of iterations. Duality gap: 483.83887023705756, tolerance: 11.350096153846156\n",
      "  tol, rng, random, positive)\n",
      "/Users/amitchandna/opt/anaconda3/lib/python3.7/site-packages/sklearn/linear_model/_coordinate_descent.py:472: ConvergenceWarning: Objective did not converge. You might want to increase the number of iterations. Duality gap: 559.1916279362631, tolerance: 11.350096153846156\n",
      "  tol, rng, random, positive)\n",
      "/Users/amitchandna/opt/anaconda3/lib/python3.7/site-packages/sklearn/linear_model/_coordinate_descent.py:472: ConvergenceWarning: Objective did not converge. You might want to increase the number of iterations. Duality gap: 587.538921434505, tolerance: 11.350096153846156\n",
      "  tol, rng, random, positive)\n",
      "/Users/amitchandna/opt/anaconda3/lib/python3.7/site-packages/sklearn/linear_model/_coordinate_descent.py:472: ConvergenceWarning: Objective did not converge. You might want to increase the number of iterations. Duality gap: 596.3613850178954, tolerance: 11.350096153846156\n",
      "  tol, rng, random, positive)\n",
      "/Users/amitchandna/opt/anaconda3/lib/python3.7/site-packages/sklearn/linear_model/_coordinate_descent.py:472: ConvergenceWarning: Objective did not converge. You might want to increase the number of iterations. Duality gap: 597.384496775674, tolerance: 11.350096153846156\n",
      "  tol, rng, random, positive)\n",
      "/Users/amitchandna/opt/anaconda3/lib/python3.7/site-packages/sklearn/linear_model/_coordinate_descent.py:472: ConvergenceWarning: Objective did not converge. You might want to increase the number of iterations. Duality gap: 595.3629240006558, tolerance: 11.350096153846156\n",
      "  tol, rng, random, positive)\n",
      "/Users/amitchandna/opt/anaconda3/lib/python3.7/site-packages/sklearn/linear_model/_coordinate_descent.py:472: ConvergenceWarning: Objective did not converge. You might want to increase the number of iterations. Duality gap: 592.1968657525867, tolerance: 11.350096153846156\n",
      "  tol, rng, random, positive)\n",
      "/Users/amitchandna/opt/anaconda3/lib/python3.7/site-packages/sklearn/linear_model/_coordinate_descent.py:472: ConvergenceWarning: Objective did not converge. You might want to increase the number of iterations. Duality gap: 588.6458185773809, tolerance: 11.350096153846156\n",
      "  tol, rng, random, positive)\n",
      "/Users/amitchandna/opt/anaconda3/lib/python3.7/site-packages/sklearn/linear_model/_coordinate_descent.py:472: ConvergenceWarning: Objective did not converge. You might want to increase the number of iterations. Duality gap: 585.0163765540201, tolerance: 11.350096153846156\n",
      "  tol, rng, random, positive)\n",
      "/Users/amitchandna/opt/anaconda3/lib/python3.7/site-packages/sklearn/linear_model/_coordinate_descent.py:472: ConvergenceWarning: Objective did not converge. You might want to increase the number of iterations. Duality gap: 581.4348219271924, tolerance: 11.350096153846156\n",
      "  tol, rng, random, positive)\n",
      "/Users/amitchandna/opt/anaconda3/lib/python3.7/site-packages/sklearn/linear_model/_coordinate_descent.py:472: ConvergenceWarning: Objective did not converge. You might want to increase the number of iterations. Duality gap: 577.9548083868431, tolerance: 11.350096153846156\n",
      "  tol, rng, random, positive)\n",
      "/Users/amitchandna/opt/anaconda3/lib/python3.7/site-packages/sklearn/linear_model/_coordinate_descent.py:472: ConvergenceWarning: Objective did not converge. You might want to increase the number of iterations. Duality gap: 574.5999775671808, tolerance: 11.350096153846156\n",
      "  tol, rng, random, positive)\n"
     ]
    },
    {
     "data": {
      "text/plain": [
       "0.13776716126901656"
      ]
     },
     "execution_count": 55,
     "metadata": {},
     "output_type": "execute_result"
    }
   ],
   "source": [
    "model_lasso.fit(X_train,y_train)\n",
    "model_lasso.score(X_train,y_train)"
   ]
  },
  {
   "cell_type": "code",
   "execution_count": null,
   "metadata": {},
   "outputs": [],
   "source": []
  }
 ],
 "metadata": {
  "kernelspec": {
   "display_name": "Python 3",
   "language": "python",
   "name": "python3"
  },
  "language_info": {
   "codemirror_mode": {
    "name": "ipython",
    "version": 3
   },
   "file_extension": ".py",
   "mimetype": "text/x-python",
   "name": "python",
   "nbconvert_exporter": "python",
   "pygments_lexer": "ipython3",
   "version": "3.7.6"
  }
 },
 "nbformat": 4,
 "nbformat_minor": 4
}
